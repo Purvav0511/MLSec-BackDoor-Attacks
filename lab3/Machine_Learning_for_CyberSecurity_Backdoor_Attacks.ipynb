{
  "nbformat": 4,
  "nbformat_minor": 0,
  "metadata": {
    "colab": {
      "provenance": [],
      "machine_shape": "hm",
      "gpuType": "V100",
      "include_colab_link": true
    },
    "kernelspec": {
      "name": "python3",
      "display_name": "Python 3"
    },
    "language_info": {
      "name": "python"
    },
    "accelerator": "GPU"
  },
  "cells": [
    {
      "cell_type": "markdown",
      "metadata": {
        "id": "view-in-github",
        "colab_type": "text"
      },
      "source": [
        "<a href=\"https://colab.research.google.com/github/Purvav0511/MLSec-BackDoor-Attacks/blob/main/lab3/Machine_Learning_for_CyberSecurity_Backdoor_Attacks.ipynb\" target=\"_parent\"><img src=\"https://colab.research.google.com/assets/colab-badge.svg\" alt=\"Open In Colab\"/></a>"
      ]
    },
    {
      "cell_type": "code",
      "execution_count": 1,
      "metadata": {
        "id": "69IwTdSufKvZ",
        "colab": {
          "base_uri": "https://localhost:8080/"
        },
        "outputId": "e15c0ab4-c1db-423f-ee39-04abeac1e9ef"
      },
      "outputs": [
        {
          "output_type": "stream",
          "name": "stdout",
          "text": [
            "Cloning into 'MLSec-BackDoor-Attacks'...\n",
            "remote: Enumerating objects: 70, done.\u001b[K\n",
            "remote: Counting objects: 100% (70/70), done.\u001b[K\n",
            "remote: Compressing objects: 100% (56/56), done.\u001b[K\n",
            "remote: Total 70 (delta 26), reused 26 (delta 6), pack-reused 0\u001b[K\n",
            "Receiving objects: 100% (70/70), 8.14 MiB | 20.34 MiB/s, done.\n",
            "Resolving deltas: 100% (26/26), done.\n"
          ]
        }
      ],
      "source": [
        "!git clone \"https://github.com/Purvav0511/MLSec-BackDoor-Attacks\""
      ]
    },
    {
      "cell_type": "code",
      "source": [
        "%cd \"/content/MLSec-BackDoor-Attacks/lab3\""
      ],
      "metadata": {
        "colab": {
          "base_uri": "https://localhost:8080/"
        },
        "id": "xk3lUzSLFacJ",
        "outputId": "9590601b-efd9-4080-c8fa-4fbd8949c99d"
      },
      "execution_count": 2,
      "outputs": [
        {
          "output_type": "stream",
          "name": "stdout",
          "text": [
            "/content/MLSec-BackDoor-Attacks/lab3\n"
          ]
        }
      ]
    },
    {
      "cell_type": "code",
      "source": [
        "%mkdir repaired_models"
      ],
      "metadata": {
        "id": "7Vn464K1tmlX"
      },
      "execution_count": 3,
      "outputs": []
    },
    {
      "cell_type": "code",
      "source": [
        "from google.colab import drive\n",
        "drive.mount('/content/drive')"
      ],
      "metadata": {
        "colab": {
          "base_uri": "https://localhost:8080/"
        },
        "id": "KyvqkR9euLEA",
        "outputId": "9132ad9f-b9f9-4999-db72-2437558421dc"
      },
      "execution_count": 4,
      "outputs": [
        {
          "output_type": "stream",
          "name": "stdout",
          "text": [
            "Mounted at /content/drive\n"
          ]
        }
      ]
    },
    {
      "cell_type": "code",
      "source": [
        "import pandas as pd\n",
        "import numpy as np\n",
        "import keras\n",
        "import sys\n",
        "import h5py\n",
        "import warnings\n",
        "from tqdm import tqdm\n",
        "import matplotlib.pyplot as plt\n",
        "import seaborn as sns"
      ],
      "metadata": {
        "id": "e9itBcPeFlqH"
      },
      "execution_count": 5,
      "outputs": []
    },
    {
      "cell_type": "code",
      "source": [
        "# File paths\n",
        "clean_data_path = r'/content/drive/MyDrive/data/cl/valid.h5'\n",
        "poisoned_data_path = r'/content/drive/MyDrive/data/bd/bd_valid.h5'\n",
        "badnet_model_path = r'/content/MLSec-BackDoor-Attacks/lab3/models/bd_net.h5'\n",
        "\n",
        "def load_data(file_path):\n",
        "    with h5py.File(file_path, 'r') as file:\n",
        "        x = np.array(file['data'])\n",
        "        y = np.array(file['label'])\n",
        "        x = x.transpose((0,2,3,1))\n",
        "    return x, y\n",
        "\n",
        "def evaluate_model(model, x_test, y_test):\n",
        "    predictions = model.predict(x_test)\n",
        "    predicted_labels = np.argmax(predictions, axis=1)\n",
        "    accuracy = np.mean(predicted_labels == y_test) * 100\n",
        "    return accuracy\n",
        "\n",
        "def main():\n",
        "    # Load data\n",
        "    x_clean, y_clean = load_data(clean_data_path)\n",
        "    x_poisoned, y_poisoned = load_data(poisoned_data_path)\n",
        "\n",
        "    # Load model\n",
        "    badnet = keras.models.load_model(badnet_model_path)\n",
        "\n",
        "    # Evaluate on clean and poisoned data\n",
        "    clean_accuracy = evaluate_model(badnet, x_clean, y_clean)\n",
        "    poisoned_accuracy = evaluate_model(badnet, x_poisoned, y_poisoned)\n",
        "\n",
        "    print(f'Clean Data Accuracy: {clean_accuracy}%')\n",
        "    print(f'Poisoned Data Attack Success Rate: {poisoned_accuracy}%')\n",
        "\n",
        "if __name__ == \"__main__\":\n",
        "    main()\n"
      ],
      "metadata": {
        "colab": {
          "base_uri": "https://localhost:8080/"
        },
        "id": "hvQDxPKrHY9f",
        "outputId": "24cab4ff-90c6-47d1-9d73-408acc39410e"
      },
      "execution_count": 6,
      "outputs": [
        {
          "output_type": "stream",
          "name": "stdout",
          "text": [
            "361/361 [==============================] - 8s 2ms/step\n",
            "361/361 [==============================] - 1s 2ms/step\n",
            "Clean Data Accuracy: 98.64899974019225%\n",
            "Poisoned Data Attack Success Rate: 100.0%\n"
          ]
        }
      ]
    },
    {
      "cell_type": "code",
      "source": [
        "print(\"Model Summary:\")\n",
        "model = keras.models.load_model(badnet_model_path)\n",
        "print(model.summary())"
      ],
      "metadata": {
        "colab": {
          "base_uri": "https://localhost:8080/"
        },
        "id": "AbBDCu4JH_eU",
        "outputId": "ed47ab34-7bcd-42ab-e121-043a0350f864"
      },
      "execution_count": 7,
      "outputs": [
        {
          "output_type": "stream",
          "name": "stdout",
          "text": [
            "Model Summary:\n",
            "Model: \"model_1\"\n",
            "__________________________________________________________________________________________________\n",
            " Layer (type)                Output Shape                 Param #   Connected to                  \n",
            "==================================================================================================\n",
            " input (InputLayer)          [(None, 55, 47, 3)]          0         []                            \n",
            "                                                                                                  \n",
            " conv_1 (Conv2D)             (None, 52, 44, 20)           980       ['input[0][0]']               \n",
            "                                                                                                  \n",
            " pool_1 (MaxPooling2D)       (None, 26, 22, 20)           0         ['conv_1[0][0]']              \n",
            "                                                                                                  \n",
            " conv_2 (Conv2D)             (None, 24, 20, 40)           7240      ['pool_1[0][0]']              \n",
            "                                                                                                  \n",
            " pool_2 (MaxPooling2D)       (None, 12, 10, 40)           0         ['conv_2[0][0]']              \n",
            "                                                                                                  \n",
            " conv_3 (Conv2D)             (None, 10, 8, 60)            21660     ['pool_2[0][0]']              \n",
            "                                                                                                  \n",
            " pool_3 (MaxPooling2D)       (None, 5, 4, 60)             0         ['conv_3[0][0]']              \n",
            "                                                                                                  \n",
            " conv_4 (Conv2D)             (None, 4, 3, 80)             19280     ['pool_3[0][0]']              \n",
            "                                                                                                  \n",
            " flatten_1 (Flatten)         (None, 1200)                 0         ['pool_3[0][0]']              \n",
            "                                                                                                  \n",
            " flatten_2 (Flatten)         (None, 960)                  0         ['conv_4[0][0]']              \n",
            "                                                                                                  \n",
            " fc_1 (Dense)                (None, 160)                  192160    ['flatten_1[0][0]']           \n",
            "                                                                                                  \n",
            " fc_2 (Dense)                (None, 160)                  153760    ['flatten_2[0][0]']           \n",
            "                                                                                                  \n",
            " add_1 (Add)                 (None, 160)                  0         ['fc_1[0][0]',                \n",
            "                                                                     'fc_2[0][0]']                \n",
            "                                                                                                  \n",
            " activation_1 (Activation)   (None, 160)                  0         ['add_1[0][0]']               \n",
            "                                                                                                  \n",
            " output (Dense)              (None, 1283)                 206563    ['activation_1[0][0]']        \n",
            "                                                                                                  \n",
            "==================================================================================================\n",
            "Total params: 601643 (2.30 MB)\n",
            "Trainable params: 601643 (2.30 MB)\n",
            "Non-trainable params: 0 (0.00 Byte)\n",
            "__________________________________________________________________________________________________\n",
            "None\n"
          ]
        }
      ]
    },
    {
      "cell_type": "code",
      "source": [
        "def visualize_data(x_data, y_data, cols=4, rows=2):\n",
        "    figure = plt.figure(figsize=(10, 8))\n",
        "    for i in range(1, cols * rows + 1):\n",
        "        index = np.random.randint(x_data.shape[0], size=1)\n",
        "        img, label = (x_data[index], y_data[index])\n",
        "        figure.add_subplot(rows, cols, i)\n",
        "        plt.title(\"True Label: {}\".format(label))\n",
        "        plt.axis(\"off\")\n",
        "        plt.imshow(img[0] / 255)\n",
        "    plt.show()"
      ],
      "metadata": {
        "id": "qPqA-ZSOIhx0"
      },
      "execution_count": 8,
      "outputs": []
    },
    {
      "cell_type": "code",
      "source": [
        "#Visualize clean data set\n",
        "clean_x, clean_y = load_data(clean_data_path)\n",
        "visualize_data(clean_x, clean_y)"
      ],
      "metadata": {
        "colab": {
          "base_uri": "https://localhost:8080/",
          "height": 471
        },
        "id": "er7-nNt7I4vR",
        "outputId": "c8a50133-994d-41ec-cd81-6dd74f43ff8b"
      },
      "execution_count": 9,
      "outputs": [
        {
          "output_type": "display_data",
          "data": {
            "text/plain": [
              "<Figure size 1000x800 with 8 Axes>"
            ],
            "image/png": "[encoded data removed]"
          },
          "metadata": {}
        }
      ]
    },
    {
      "cell_type": "code",
      "source": [
        "#Viusalize poisioned data set\n",
        "poison_x, poison_y = load_data(poisoned_data_path)\n",
        "visualize_data(poison_x, poison_y)"
      ],
      "metadata": {
        "colab": {
          "base_uri": "https://localhost:8080/",
          "height": 471
        },
        "id": "rMf7fRNWJuwk",
        "outputId": "baa3c993-3850-4335-d16b-cb2933d7c2a1"
      },
      "execution_count": 10,
      "outputs": [
        {
          "output_type": "display_data",
          "data": {
            "text/plain": [
              "<Figure size 1000x800 with 8 Axes>"
            ],
            "image/png": "[encoded data removed]"
          },
          "metadata": {}
        }
      ]
    },
    {
      "cell_type": "code",
      "source": [
        "# clearing the session\n",
        "keras.backend.clear_session()"
      ],
      "metadata": {
        "id": "j5TE14zxKO1K"
      },
      "execution_count": 11,
      "outputs": []
    },
    {
      "cell_type": "markdown",
      "source": [
        "## Prune Defense Strategy\n",
        "\n",
        "To conduct the model pruning:\n",
        "\n",
        "1. Initial check involves evaluating the activation of the final pooling layer (pool_3).\n",
        "2. Subsequently, the consistently selected target for pruning is the channel with the smallest average activation.\n",
        "3. Within the convolution layer (conv_3), comprising a total of 60 channels, the focus remains on determining the specific index to prune."
      ],
      "metadata": {
        "id": "z-tiaRK1KtXo"
      }
    },
    {
      "cell_type": "code",
      "source": [
        "# load the data\n",
        "clean_x_valid, clean_y_valid = load_data(clean_data_path)\n",
        "bd_x_test, bd_y_test = load_data(poisoned_data_path)"
      ],
      "metadata": {
        "id": "JUr0pqAEKPO7"
      },
      "execution_count": 12,
      "outputs": []
    },
    {
      "cell_type": "code",
      "source": [
        "# Initial accuracy of the unmodified model on clean data\n",
        "initial_clean_accuracy = 98.64899974019225\n",
        "\n",
        "# Clone the original model to keep it unchanged\n",
        "pruned_model = keras.models.clone_model(model)\n",
        "pruned_model.set_weights(model.get_weights())\n",
        "\n",
        "accuracy_clean_data = []\n",
        "attack_success_rates = []\n",
        "\n",
        "# Flags to track model saving at different accuracy drop levels\n",
        "model_saved_flags = np.zeros(3, dtype=bool)\n",
        "\n",
        "# Extracting activations from the specified pooling layer\n",
        "pool_layer_output = pruned_model.get_layer('pool_3').output\n",
        "activation_model = keras.models.Model(inputs=pruned_model.input, outputs=pool_layer_output)\n",
        "activations = activation_model.predict(clean_x_valid, batch_size=32)  # Adjust the batch size as needed\n",
        "average_activations = np.mean(activations, axis=(0, 1, 2))\n",
        "\n",
        "# Sorting channels based on mean activation\n",
        "sorted_channels = np.argsort(average_activations)\n",
        "\n",
        "# Accessing weights and biases of the target layer\n",
        "target_layer_weights, target_layer_biases = pruned_model.layers[5].get_weights()\n",
        "\n",
        "# Pruning process - Pruning channels in batches\n",
        "prune_batch_size = 2\n",
        "for i in tqdm(range(0, len(sorted_channels), prune_batch_size)):\n",
        "    for channel in sorted_channels[i:i+prune_batch_size]:\n",
        "        target_layer_weights[:, :, :, channel] = 0\n",
        "        target_layer_biases[channel] = 0\n",
        "    pruned_model.layers[5].set_weights([target_layer_weights, target_layer_biases])\n",
        "\n",
        "    # Evaluating on clean data\n",
        "    clean_predictions = np.argmax(pruned_model.predict(clean_x_valid, batch_size=32), axis=1)\n",
        "    current_accuracy = np.mean(np.equal(clean_predictions, clean_y_valid)) * 100\n",
        "\n",
        "    # Evaluating attack success rate\n",
        "    poisoned_predictions = np.argmax(pruned_model.predict(bd_x_test, batch_size=32), axis=1)\n",
        "    current_asr = np.mean(np.equal(poisoned_predictions, bd_y_test)) * 100\n",
        "\n",
        "    # Saving the model at specific accuracy drops\n",
        "    accuracy_drops = [2, 4, 10]\n",
        "    for j, drop in enumerate(accuracy_drops):\n",
        "        if initial_clean_accuracy - current_accuracy >= drop and not model_saved_flags[j]:\n",
        "            pruned_model.save(f'/content/MLSec-BackDoor-Attacks/lab3/repaired_models/model_drop_{drop}.h5')\n",
        "            print(f\"Saved model: model_drop_{drop}.h5\")\n",
        "            model_saved_flags[j] = True\n",
        "\n",
        "    # Appending to lists for tracking\n",
        "    accuracy_clean_data.append(current_accuracy)\n",
        "    attack_success_rates.append(current_asr)\n",
        "\n",
        "    # Logging information\n",
        "    print(f\"Pruned Batch ending with Channel: {channel}, Clean Data Accuracy: {current_accuracy}, Attack Success Rate: {current_asr}\")\n",
        "\n",
        "    # Clearing the Keras session to free resources\n",
        "    keras.backend.clear_session()\n"
      ],
      "metadata": {
        "colab": {
          "base_uri": "https://localhost:8080/"
        },
        "id": "09kUBdiYLL8k",
        "outputId": "a3259c93-5195-418d-f891-47b4f745c831"
      },
      "execution_count": 13,
      "outputs": [
        {
          "output_type": "stream",
          "name": "stdout",
          "text": [
            "361/361 [==============================] - 1s 2ms/step\n"
          ]
        },
        {
          "output_type": "stream",
          "name": "stderr",
          "text": [
            "\r  0%|          | 0/30 [00:00<?, ?it/s]"
          ]
        },
        {
          "output_type": "stream",
          "name": "stdout",
          "text": [
            "361/361 [==============================] - 1s 2ms/step\n",
            "361/361 [==============================] - 1s 2ms/step\n",
            "Pruned Batch ending with Channel: 26, Clean Data Accuracy: 98.64899974019225, Attack Success Rate: 100.0\n"
          ]
        },
        {
          "output_type": "stream",
          "name": "stderr",
          "text": [
            "\r  3%|▎         | 1/30 [00:04<02:02,  4.21s/it]"
          ]
        },
        {
          "output_type": "stream",
          "name": "stdout",
          "text": [
            "361/361 [==============================] - 1s 2ms/step\n",
            "361/361 [==============================] - 1s 2ms/step\n"
          ]
        },
        {
          "output_type": "stream",
          "name": "stderr",
          "text": [
            "\r  7%|▋         | 2/30 [00:08<01:58,  4.23s/it]"
          ]
        },
        {
          "output_type": "stream",
          "name": "stdout",
          "text": [
            "Pruned Batch ending with Channel: 30, Clean Data Accuracy: 98.64899974019225, Attack Success Rate: 100.0\n",
            "361/361 [==============================] - 1s 2ms/step\n",
            "361/361 [==============================] - 1s 2ms/step\n"
          ]
        },
        {
          "output_type": "stream",
          "name": "stderr",
          "text": [
            "\r 10%|█         | 3/30 [00:12<01:53,  4.20s/it]"
          ]
        },
        {
          "output_type": "stream",
          "name": "stdout",
          "text": [
            "Pruned Batch ending with Channel: 33, Clean Data Accuracy: 98.64899974019225, Attack Success Rate: 100.0\n",
            "361/361 [==============================] - 1s 2ms/step\n",
            "361/361 [==============================] - 1s 2ms/step\n",
            "Pruned Batch ending with Channel: 36, Clean Data Accuracy: 98.64899974019225, Attack Success Rate: 100.0\n"
          ]
        },
        {
          "output_type": "stream",
          "name": "stderr",
          "text": [
            "\r 13%|█▎        | 4/30 [00:16<01:49,  4.20s/it]"
          ]
        },
        {
          "output_type": "stream",
          "name": "stdout",
          "text": [
            "361/361 [==============================] - 1s 2ms/step\n",
            "361/361 [==============================] - 1s 2ms/step\n"
          ]
        },
        {
          "output_type": "stream",
          "name": "stderr",
          "text": [
            "\r 17%|█▋        | 5/30 [00:21<01:45,  4.23s/it]"
          ]
        },
        {
          "output_type": "stream",
          "name": "stdout",
          "text": [
            "Pruned Batch ending with Channel: 38, Clean Data Accuracy: 98.64899974019225, Attack Success Rate: 100.0\n",
            "361/361 [==============================] - 1s 2ms/step\n",
            "361/361 [==============================] - 1s 2ms/step\n"
          ]
        },
        {
          "output_type": "stream",
          "name": "stderr",
          "text": [
            "\r 20%|██        | 6/30 [00:25<01:41,  4.22s/it]"
          ]
        },
        {
          "output_type": "stream",
          "name": "stdout",
          "text": [
            "Pruned Batch ending with Channel: 39, Clean Data Accuracy: 98.64899974019225, Attack Success Rate: 100.0\n",
            "361/361 [==============================] - 1s 2ms/step\n",
            "361/361 [==============================] - 1s 2ms/step\n"
          ]
        },
        {
          "output_type": "stream",
          "name": "stderr",
          "text": [
            "\r 23%|██▎       | 7/30 [00:29<01:37,  4.23s/it]"
          ]
        },
        {
          "output_type": "stream",
          "name": "stdout",
          "text": [
            "Pruned Batch ending with Channel: 44, Clean Data Accuracy: 98.64899974019225, Attack Success Rate: 100.0\n",
            "361/361 [==============================] - 1s 2ms/step\n",
            "361/361 [==============================] - 1s 2ms/step\n"
          ]
        },
        {
          "output_type": "stream",
          "name": "stderr",
          "text": [
            "\r 27%|██▋       | 8/30 [00:33<01:33,  4.24s/it]"
          ]
        },
        {
          "output_type": "stream",
          "name": "stdout",
          "text": [
            "Pruned Batch ending with Channel: 47, Clean Data Accuracy: 98.64899974019225, Attack Success Rate: 100.0\n",
            "361/361 [==============================] - 1s 2ms/step\n",
            "361/361 [==============================] - 1s 2ms/step\n"
          ]
        },
        {
          "output_type": "stream",
          "name": "stderr",
          "text": [
            "\r 30%|███       | 9/30 [00:38<01:28,  4.23s/it]"
          ]
        },
        {
          "output_type": "stream",
          "name": "stdout",
          "text": [
            "Pruned Batch ending with Channel: 49, Clean Data Accuracy: 98.64899974019225, Attack Success Rate: 100.0\n",
            "361/361 [==============================] - 1s 2ms/step\n",
            "361/361 [==============================] - 1s 2ms/step\n"
          ]
        },
        {
          "output_type": "stream",
          "name": "stderr",
          "text": [
            "\r 33%|███▎      | 10/30 [00:42<01:24,  4.24s/it]"
          ]
        },
        {
          "output_type": "stream",
          "name": "stdout",
          "text": [
            "Pruned Batch ending with Channel: 53, Clean Data Accuracy: 98.64899974019225, Attack Success Rate: 100.0\n",
            "361/361 [==============================] - 1s 2ms/step\n",
            "361/361 [==============================] - 1s 2ms/step\n"
          ]
        },
        {
          "output_type": "stream",
          "name": "stderr",
          "text": [
            "\r 37%|███▋      | 11/30 [00:46<01:21,  4.30s/it]"
          ]
        },
        {
          "output_type": "stream",
          "name": "stdout",
          "text": [
            "Pruned Batch ending with Channel: 40, Clean Data Accuracy: 98.64899974019225, Attack Success Rate: 100.0\n",
            "361/361 [==============================] - 1s 2ms/step\n",
            "361/361 [==============================] - 1s 2ms/step\n",
            "Pruned Batch ending with Channel: 59, Clean Data Accuracy: 98.64899974019225, Attack Success Rate: 100.0\n"
          ]
        },
        {
          "output_type": "stream",
          "name": "stderr",
          "text": [
            "\r 40%|████      | 12/30 [00:50<01:16,  4.27s/it]"
          ]
        },
        {
          "output_type": "stream",
          "name": "stdout",
          "text": [
            "361/361 [==============================] - 1s 2ms/step\n",
            "361/361 [==============================] - 1s 2ms/step\n"
          ]
        },
        {
          "output_type": "stream",
          "name": "stderr",
          "text": [
            "\r 43%|████▎     | 13/30 [00:55<01:12,  4.25s/it]"
          ]
        },
        {
          "output_type": "stream",
          "name": "stdout",
          "text": [
            "Pruned Batch ending with Channel: 2, Clean Data Accuracy: 98.64899974019225, Attack Success Rate: 100.0\n",
            "361/361 [==============================] - 1s 2ms/step\n",
            "361/361 [==============================] - 1s 2ms/step\n"
          ]
        },
        {
          "output_type": "stream",
          "name": "stderr",
          "text": [
            "\r 47%|████▋     | 14/30 [00:59<01:08,  4.26s/it]"
          ]
        },
        {
          "output_type": "stream",
          "name": "stdout",
          "text": [
            "Pruned Batch ending with Channel: 13, Clean Data Accuracy: 98.64899974019225, Attack Success Rate: 100.0\n",
            "361/361 [==============================] - 1s 2ms/step\n",
            "361/361 [==============================] - 1s 2ms/step\n"
          ]
        },
        {
          "output_type": "stream",
          "name": "stderr",
          "text": [
            "\r 50%|█████     | 15/30 [01:03<01:03,  4.25s/it]"
          ]
        },
        {
          "output_type": "stream",
          "name": "stdout",
          "text": [
            "Pruned Batch ending with Channel: 14, Clean Data Accuracy: 98.64899974019225, Attack Success Rate: 100.0\n",
            "361/361 [==============================] - 1s 2ms/step\n",
            "361/361 [==============================] - 1s 2ms/step\n"
          ]
        },
        {
          "output_type": "stream",
          "name": "stderr",
          "text": [
            "\r 53%|█████▎    | 16/30 [01:07<00:59,  4.25s/it]"
          ]
        },
        {
          "output_type": "stream",
          "name": "stdout",
          "text": [
            "Pruned Batch ending with Channel: 23, Clean Data Accuracy: 98.64899974019225, Attack Success Rate: 100.0\n",
            "361/361 [==============================] - 1s 2ms/step\n",
            "361/361 [==============================] - 1s 2ms/step\n"
          ]
        },
        {
          "output_type": "stream",
          "name": "stderr",
          "text": [
            "\r 57%|█████▋    | 17/30 [01:12<00:55,  4.28s/it]"
          ]
        },
        {
          "output_type": "stream",
          "name": "stdout",
          "text": [
            "Pruned Batch ending with Channel: 51, Clean Data Accuracy: 98.64033948211657, Attack Success Rate: 100.0\n",
            "361/361 [==============================] - 1s 2ms/step\n",
            "361/361 [==============================] - 1s 2ms/step\n"
          ]
        },
        {
          "output_type": "stream",
          "name": "stderr",
          "text": [
            "\r 60%|██████    | 18/30 [01:16<00:51,  4.26s/it]"
          ]
        },
        {
          "output_type": "stream",
          "name": "stdout",
          "text": [
            "Pruned Batch ending with Channel: 22, Clean Data Accuracy: 98.63167922404088, Attack Success Rate: 100.0\n",
            "361/361 [==============================] - 1s 2ms/step\n",
            "361/361 [==============================] - 1s 2ms/step\n",
            "Pruned Batch ending with Channel: 20, Clean Data Accuracy: 98.64899974019225, Attack Success Rate: 100.0\n"
          ]
        },
        {
          "output_type": "stream",
          "name": "stderr",
          "text": [
            "\r 63%|██████▎   | 19/30 [01:20<00:46,  4.25s/it]"
          ]
        },
        {
          "output_type": "stream",
          "name": "stdout",
          "text": [
            "361/361 [==============================] - 1s 2ms/step\n",
            "361/361 [==============================] - 1s 2ms/step\n"
          ]
        },
        {
          "output_type": "stream",
          "name": "stderr",
          "text": [
            "\r 67%|██████▋   | 20/30 [01:25<00:42,  4.29s/it]"
          ]
        },
        {
          "output_type": "stream",
          "name": "stdout",
          "text": [
            "Pruned Batch ending with Channel: 43, Clean Data Accuracy: 98.57105741751104, Attack Success Rate: 100.0\n",
            "361/361 [==============================] - 1s 2ms/step\n",
            "361/361 [==============================] - 1s 2ms/step\n"
          ]
        },
        {
          "output_type": "stream",
          "name": "stderr",
          "text": [
            "\r 70%|███████   | 21/30 [01:29<00:38,  4.28s/it]"
          ]
        },
        {
          "output_type": "stream",
          "name": "stdout",
          "text": [
            "Pruned Batch ending with Channel: 3, Clean Data Accuracy: 98.19000606218066, Attack Success Rate: 100.0\n",
            "361/361 [==============================] - 1s 2ms/step\n",
            "361/361 [==============================] - 1s 2ms/step\n",
            "Pruned Batch ending with Channel: 1, Clean Data Accuracy: 97.50584567420108, Attack Success Rate: 100.0\n"
          ]
        },
        {
          "output_type": "stream",
          "name": "stderr",
          "text": [
            "\r 73%|███████▎  | 22/30 [01:33<00:33,  4.23s/it]"
          ]
        },
        {
          "output_type": "stream",
          "name": "stdout",
          "text": [
            "361/361 [==============================] - 1s 2ms/step\n",
            "361/361 [==============================] - 1s 2ms/step\n"
          ]
        },
        {
          "output_type": "stream",
          "name": "stderr",
          "text": [
            "/usr/local/lib/python3.10/dist-packages/keras/src/engine/training.py:3079: UserWarning: You are saving your model as an HDF5 file via `model.save()`. This file format is considered legacy. We recommend using instead the native Keras format, e.g. `model.save('my_model.keras')`.\n",
            "  saving_api.save_model(\n",
            "WARNING:tensorflow:Compiled the loaded model, but the compiled metrics have yet to be built. `model.compile_metrics` will be empty until you train or evaluate the model.\n",
            " 77%|███████▋  | 23/30 [01:37<00:29,  4.28s/it]"
          ]
        },
        {
          "output_type": "stream",
          "name": "stdout",
          "text": [
            "Saved model: model_drop_2.h5\n",
            "Pruned Batch ending with Channel: 16, Clean Data Accuracy: 95.20221702606739, Attack Success Rate: 99.9913397419243\n",
            "361/361 [==============================] - 1s 2ms/step\n",
            "361/361 [==============================] - 1s 2ms/step\n"
          ]
        },
        {
          "output_type": "stream",
          "name": "stderr",
          "text": [
            "WARNING:tensorflow:Compiled the loaded model, but the compiled metrics have yet to be built. `model.compile_metrics` will be empty until you train or evaluate the model.\n",
            " 80%|████████  | 24/30 [01:42<00:25,  4.27s/it]"
          ]
        },
        {
          "output_type": "stream",
          "name": "stdout",
          "text": [
            "Saved model: model_drop_4.h5\n",
            "Pruned Batch ending with Channel: 46, Clean Data Accuracy: 92.09318437689443, Attack Success Rate: 99.9913397419243\n",
            "361/361 [==============================] - 1s 2ms/step\n",
            "361/361 [==============================] - 1s 2ms/step\n",
            "Pruned Batch ending with Channel: 8, Clean Data Accuracy: 91.01931237550879, Attack Success Rate: 99.98267948384861\n"
          ]
        },
        {
          "output_type": "stream",
          "name": "stderr",
          "text": [
            "\r 83%|████████▎ | 25/30 [01:46<00:21,  4.23s/it]"
          ]
        },
        {
          "output_type": "stream",
          "name": "stdout",
          "text": [
            "361/361 [==============================] - 1s 2ms/step\n",
            "361/361 [==============================] - 1s 2ms/step\n"
          ]
        },
        {
          "output_type": "stream",
          "name": "stderr",
          "text": [
            "WARNING:tensorflow:Compiled the loaded model, but the compiled metrics have yet to be built. `model.compile_metrics` will be empty until you train or evaluate the model.\n",
            " 87%|████████▋ | 26/30 [01:50<00:17,  4.27s/it]"
          ]
        },
        {
          "output_type": "stream",
          "name": "stdout",
          "text": [
            "Saved model: model_drop_10.h5\n",
            "Pruned Batch ending with Channel: 54, Clean Data Accuracy: 84.43751623798389, Attack Success Rate: 77.015675067117\n",
            "361/361 [==============================] - 1s 2ms/step\n",
            "361/361 [==============================] - 1s 2ms/step\n",
            "Pruned Batch ending with Channel: 28, Clean Data Accuracy: 54.8627349095003, Attack Success Rate: 6.954187234779596\n"
          ]
        },
        {
          "output_type": "stream",
          "name": "stderr",
          "text": [
            "\r 90%|█████████ | 27/30 [01:54<00:12,  4.26s/it]"
          ]
        },
        {
          "output_type": "stream",
          "name": "stdout",
          "text": [
            "361/361 [==============================] - 1s 2ms/step\n",
            "361/361 [==============================] - 1s 2ms/step\n",
            "Pruned Batch ending with Channel: 18, Clean Data Accuracy: 13.87373343725643, Attack Success Rate: 0.0\n"
          ]
        },
        {
          "output_type": "stream",
          "name": "stderr",
          "text": [
            "\r 93%|█████████▎| 28/30 [01:58<00:08,  4.22s/it]"
          ]
        },
        {
          "output_type": "stream",
          "name": "stdout",
          "text": [
            "361/361 [==============================] - 1s 2ms/step\n",
            "361/361 [==============================] - 1s 2ms/step\n"
          ]
        },
        {
          "output_type": "stream",
          "name": "stderr",
          "text": [
            "\r 97%|█████████▋| 29/30 [02:03<00:04,  4.23s/it]"
          ]
        },
        {
          "output_type": "stream",
          "name": "stdout",
          "text": [
            "Pruned Batch ending with Channel: 7, Clean Data Accuracy: 1.5501861955486274, Attack Success Rate: 0.0\n",
            "361/361 [==============================] - 1s 2ms/step\n",
            "361/361 [==============================] - 1s 2ms/step\n"
          ]
        },
        {
          "output_type": "stream",
          "name": "stderr",
          "text": [
            "100%|██████████| 30/30 [02:07<00:00,  4.25s/it]"
          ]
        },
        {
          "output_type": "stream",
          "name": "stdout",
          "text": [
            "Pruned Batch ending with Channel: 57, Clean Data Accuracy: 0.0779423226812159, Attack Success Rate: 0.0\n"
          ]
        },
        {
          "output_type": "stream",
          "name": "stderr",
          "text": [
            "\n"
          ]
        }
      ]
    },
    {
      "cell_type": "markdown",
      "source": [
        "Pruning in descending order:\n",
        "If you want to execute in descening order, then comment out the code above and implement the cell below instead of above.\n",
        "\n",
        "Reasons not to use descending over ascending:\n",
        "\n",
        "1. Pruning channels based on the decreasing order of mean activations would mean you start by removing the most highly activated channels first. These channels could be considered the most significant in terms of their contribution to the network's output, as they are more frequently or strongly activated across the validation set.\n",
        "\n",
        "2. Highly activated channels may represent critical features that the network has learned to detect. Removing these could diminish the network's ability to generalize from the data and accurately classify clean inputs.\n",
        "\n",
        "3. If the backdoor trigger relies on features captured by these highly activated channels, then pruning them could quickly reduce the backdoor's effectiveness. However, this could be a double-edged sword if the model also loses its ability to correctly classify clean inputs.\n",
        "\n",
        "4. Starting with the most activated channels increases the risk of over-pruning, which is the removal of too many important features, leading to a model that performs poorly on both clean and poisoned data.\n",
        "\n",
        "5. Since the most highly activated channels are often those that contribute the most to the correct functioning of the network, pruning them could lead to a significant and immediate drop in model accuracy"
      ],
      "metadata": {
        "id": "cWA-jOdYOyGS"
      }
    },
    {
      "cell_type": "code",
      "source": [
        "# # Initial accuracy of the unmodified model on clean data\n",
        "# initial_clean_accuracy = 98.64899974019225\n",
        "\n",
        "# # Clone the original model to keep it unchanged\n",
        "# pruned_model = keras.models.clone_model(model)\n",
        "# pruned_model.set_weights(model.get_weights())\n",
        "\n",
        "# accuracy_clean_data = []\n",
        "# attack_success_rates = []\n",
        "\n",
        "# # Flags to track model saving at different accuracy drop levels\n",
        "# model_saved_flags = np.zeros(3, dtype=bool)\n",
        "\n",
        "# # Extracting activations from the specified pooling layer\n",
        "# pool_layer_output = pruned_model.get_layer('pool_3').output\n",
        "# activation_model = keras.models.Model(inputs=pruned_model.input, outputs=pool_layer_output)\n",
        "# activations = activation_model.predict(clean_x_valid, batch_size=32)  # Adjust the batch size as needed\n",
        "# average_activations = np.mean(activations, axis=(0, 1, 2))\n",
        "\n",
        "# # Sorting channels based on mean activation\n",
        "# sorted_channels_desc = np.argsort(average_activations)[::-1]\n",
        "\n",
        "# # Accessing weights and biases of the target layer\n",
        "# target_layer_weights, target_layer_biases = pruned_model.layers[5].get_weights()\n",
        "\n",
        "# # Pruning process - Pruning channels in batches\n",
        "# prune_batch_size = 2\n",
        "# for i in tqdm(range(0, len(sorted_channels_desc), prune_batch_size)):\n",
        "#     for channel in sorted_channels_desc[i:i+prune_batch_size]:\n",
        "#         target_layer_weights[:, :, :, channel] = 0\n",
        "#         target_layer_biases[channel] = 0\n",
        "#     pruned_model.layers[5].set_weights([target_layer_weights, target_layer_biases])\n",
        "\n",
        "#     # Evaluating on clean data\n",
        "#     clean_predictions = np.argmax(pruned_model.predict(clean_x_valid, batch_size=32), axis=1)\n",
        "#     current_accuracy = np.mean(np.equal(clean_predictions, clean_y_valid)) * 100\n",
        "\n",
        "#     # Evaluating attack success rate\n",
        "#     poisoned_predictions = np.argmax(pruned_model.predict(bd_x_test, batch_size=32), axis=1)\n",
        "#     current_asr = np.mean(np.equal(poisoned_predictions, bd_y_test)) * 100\n",
        "\n",
        "#     # Saving the model at specific accuracy drops\n",
        "#     accuracy_drops = [2, 4, 10]\n",
        "#     for j, drop in enumerate(accuracy_drops):\n",
        "#         if initial_clean_accuracy - current_accuracy >= drop and not model_saved_flags[j]:\n",
        "#             pruned_model.save(f'/content/MLSec-BackDoor-Attacks/lab3/repaired_models/model_drop_{drop}.h5')\n",
        "#             print(f\"Saved model: model_drop_{drop}.h5\")\n",
        "#             model_saved_flags[j] = True\n",
        "\n",
        "#     # Appending to lists for tracking\n",
        "#     accuracy_clean_data.append(current_accuracy)\n",
        "#     attack_success_rates.append(current_asr)\n",
        "\n",
        "#     # Logging information\n",
        "#     print(f\"Pruned Batch ending with Channel: {channel}, Clean Data Accuracy: {current_accuracy}, Attack Success Rate: {current_asr}\")\n",
        "\n",
        "#     # Clearing the Keras session to free resources\n",
        "#     keras.backend.clear_session()\n"
      ],
      "metadata": {
        "colab": {
          "base_uri": "https://localhost:8080/"
        },
        "id": "N4xCN25xQjns",
        "outputId": "52bdbd79-0d5b-4429-fb57-17cb1d3a990e"
      },
      "execution_count": null,
      "outputs": [
        {
          "output_type": "stream",
          "name": "stdout",
          "text": [
            "361/361 [==============================] - 1s 2ms/step\n"
          ]
        },
        {
          "output_type": "stream",
          "name": "stderr",
          "text": [
            "\r  0%|          | 0/30 [00:00<?, ?it/s]"
          ]
        },
        {
          "output_type": "stream",
          "name": "stdout",
          "text": [
            "361/361 [==============================] - 1s 2ms/step\n",
            "361/361 [==============================] - 1s 2ms/step\n"
          ]
        },
        {
          "output_type": "stream",
          "name": "stderr",
          "text": [
            "/usr/local/lib/python3.10/dist-packages/keras/src/engine/training.py:3079: UserWarning: You are saving your model as an HDF5 file via `model.save()`. This file format is considered legacy. We recommend using instead the native Keras format, e.g. `model.save('my_model.keras')`.\n",
            "  saving_api.save_model(\n",
            "WARNING:tensorflow:Compiled the loaded model, but the compiled metrics have yet to be built. `model.compile_metrics` will be empty until you train or evaluate the model.\n",
            "WARNING:tensorflow:Compiled the loaded model, but the compiled metrics have yet to be built. `model.compile_metrics` will be empty until you train or evaluate the model.\n",
            "WARNING:tensorflow:Compiled the loaded model, but the compiled metrics have yet to be built. `model.compile_metrics` will be empty until you train or evaluate the model.\n",
            "  3%|▎         | 1/30 [00:04<01:56,  4.02s/it]"
          ]
        },
        {
          "output_type": "stream",
          "name": "stdout",
          "text": [
            "Saved model: model_drop_2.h5\n",
            "Saved model: model_drop_4.h5\n",
            "Saved model: model_drop_10.h5\n",
            "Pruned Batch ending with Channel: 52, Clean Data Accuracy: 74.1491296440634, Attack Success Rate: 100.0\n",
            "361/361 [==============================] - 1s 2ms/step\n",
            "361/361 [==============================] - 1s 2ms/step\n",
            "Pruned Batch ending with Channel: 4, Clean Data Accuracy: 47.22438728674114, Attack Success Rate: 99.98267948384861\n"
          ]
        },
        {
          "output_type": "stream",
          "name": "stderr",
          "text": [
            "\r  7%|▋         | 2/30 [00:07<01:51,  3.98s/it]"
          ]
        },
        {
          "output_type": "stream",
          "name": "stdout",
          "text": [
            "361/361 [==============================] - 1s 2ms/step\n",
            "361/361 [==============================] - 1s 2ms/step\n",
            "Pruned Batch ending with Channel: 35, Clean Data Accuracy: 34.93548107733611, Attack Success Rate: 100.0\n"
          ]
        },
        {
          "output_type": "stream",
          "name": "stderr",
          "text": [
            "\r 10%|█         | 3/30 [00:11<01:47,  3.98s/it]"
          ]
        },
        {
          "output_type": "stream",
          "name": "stdout",
          "text": [
            "361/361 [==============================] - 1s 2ms/step\n",
            "361/361 [==============================] - 1s 2ms/step\n"
          ]
        },
        {
          "output_type": "stream",
          "name": "stderr",
          "text": [
            "\r 13%|█▎        | 4/30 [00:15<01:43,  3.97s/it]"
          ]
        },
        {
          "output_type": "stream",
          "name": "stdout",
          "text": [
            "Pruned Batch ending with Channel: 10, Clean Data Accuracy: 23.90231228890621, Attack Success Rate: 100.0\n",
            "361/361 [==============================] - 1s 2ms/step\n",
            "361/361 [==============================] - 1s 2ms/step\n",
            "Pruned Batch ending with Channel: 11, Clean Data Accuracy: 11.769290724863602, Attack Success Rate: 92.9678704425392\n"
          ]
        },
        {
          "output_type": "stream",
          "name": "stderr",
          "text": [
            "\r 17%|█▋        | 5/30 [00:19<01:38,  3.93s/it]"
          ]
        },
        {
          "output_type": "stream",
          "name": "stdout",
          "text": [
            "361/361 [==============================] - 1s 2ms/step\n",
            "361/361 [==============================] - 1s 2ms/step\n"
          ]
        },
        {
          "output_type": "stream",
          "name": "stderr",
          "text": [
            "\r 20%|██        | 6/30 [00:23<01:34,  3.95s/it]"
          ]
        },
        {
          "output_type": "stream",
          "name": "stdout",
          "text": [
            "Pruned Batch ending with Channel: 5, Clean Data Accuracy: 5.845674201091192, Attack Success Rate: 86.00502294968389\n",
            "361/361 [==============================] - 1s 2ms/step\n",
            "361/361 [==============================] - 1s 2ms/step\n"
          ]
        },
        {
          "output_type": "stream",
          "name": "stderr",
          "text": [
            "\r 23%|██▎       | 7/30 [00:27<01:31,  3.98s/it]"
          ]
        },
        {
          "output_type": "stream",
          "name": "stdout",
          "text": [
            "Pruned Batch ending with Channel: 56, Clean Data Accuracy: 2.736641551918247, Attack Success Rate: 92.32701134493809\n",
            "361/361 [==============================] - 1s 2ms/step\n",
            "361/361 [==============================] - 1s 2ms/step\n",
            "Pruned Batch ending with Channel: 29, Clean Data Accuracy: 1.732051615138131, Attack Success Rate: 0.23382696804364772\n"
          ]
        },
        {
          "output_type": "stream",
          "name": "stderr",
          "text": [
            "\r 27%|██▋       | 8/30 [00:31<01:27,  3.98s/it]"
          ]
        },
        {
          "output_type": "stream",
          "name": "stdout",
          "text": [
            "361/361 [==============================] - 1s 2ms/step\n",
            "361/361 [==============================] - 1s 2ms/step\n",
            "Pruned Batch ending with Channel: 42, Clean Data Accuracy: 0.9093270979475189, Attack Success Rate: 0.32908980687624495\n"
          ]
        },
        {
          "output_type": "stream",
          "name": "stderr",
          "text": [
            "\r 30%|███       | 9/30 [00:35<01:23,  3.97s/it]"
          ]
        },
        {
          "output_type": "stream",
          "name": "stdout",
          "text": [
            "361/361 [==============================] - 1s 2ms/step\n",
            "361/361 [==============================] - 1s 2ms/step\n",
            "Pruned Batch ending with Channel: 58, Clean Data Accuracy: 0.6495193556767992, Attack Success Rate: 0.01732051615138131\n"
          ]
        },
        {
          "output_type": "stream",
          "name": "stderr",
          "text": [
            "\r 33%|███▎      | 10/30 [00:39<01:19,  3.97s/it]"
          ]
        },
        {
          "output_type": "stream",
          "name": "stdout",
          "text": [
            "361/361 [==============================] - 1s 2ms/step\n",
            "361/361 [==============================] - 1s 2ms/step\n",
            "Pruned Batch ending with Channel: 19, Clean Data Accuracy: 0.2944487745734823, Attack Success Rate: 0.01732051615138131\n"
          ]
        },
        {
          "output_type": "stream",
          "name": "stderr",
          "text": [
            "\r 37%|███▋      | 11/30 [00:43<01:15,  3.99s/it]"
          ]
        },
        {
          "output_type": "stream",
          "name": "stdout",
          "text": [
            "361/361 [==============================] - 1s 2ms/step\n",
            "361/361 [==============================] - 1s 2ms/step\n"
          ]
        },
        {
          "output_type": "stream",
          "name": "stderr",
          "text": [
            "\r 40%|████      | 12/30 [00:47<01:12,  4.01s/it]"
          ]
        },
        {
          "output_type": "stream",
          "name": "stdout",
          "text": [
            "Pruned Batch ending with Channel: 21, Clean Data Accuracy: 0.16454490343812248, Attack Success Rate: 0.0\n",
            "361/361 [==============================] - 1s 2ms/step\n",
            "361/361 [==============================] - 1s 2ms/step\n",
            "Pruned Batch ending with Channel: 32, Clean Data Accuracy: 0.18186541958950378, Attack Success Rate: 0.0\n"
          ]
        },
        {
          "output_type": "stream",
          "name": "stderr",
          "text": [
            "\r 43%|████▎     | 13/30 [00:51<01:08,  4.01s/it]"
          ]
        },
        {
          "output_type": "stream",
          "name": "stdout",
          "text": [
            "361/361 [==============================] - 1s 2ms/step\n",
            "361/361 [==============================] - 1s 2ms/step\n",
            "Pruned Batch ending with Channel: 6, Clean Data Accuracy: 0.0779423226812159, Attack Success Rate: 0.0\n"
          ]
        },
        {
          "output_type": "stream",
          "name": "stderr",
          "text": [
            "\r 47%|████▋     | 14/30 [00:55<01:03,  4.00s/it]"
          ]
        },
        {
          "output_type": "stream",
          "name": "stdout",
          "text": [
            "361/361 [==============================] - 1s 2ms/step\n",
            "361/361 [==============================] - 1s 2ms/step\n",
            "Pruned Batch ending with Channel: 15, Clean Data Accuracy: 0.0779423226812159, Attack Success Rate: 0.0\n"
          ]
        },
        {
          "output_type": "stream",
          "name": "stderr",
          "text": [
            "\r 50%|█████     | 15/30 [00:59<00:59,  3.99s/it]"
          ]
        },
        {
          "output_type": "stream",
          "name": "stdout",
          "text": [
            "361/361 [==============================] - 1s 2ms/step\n",
            "361/361 [==============================] - 1s 2ms/step\n"
          ]
        },
        {
          "output_type": "stream",
          "name": "stderr",
          "text": [
            "\r 53%|█████▎    | 16/30 [01:03<00:55,  3.97s/it]"
          ]
        },
        {
          "output_type": "stream",
          "name": "stdout",
          "text": [
            "Pruned Batch ending with Channel: 17, Clean Data Accuracy: 0.0779423226812159, Attack Success Rate: 0.0\n",
            "361/361 [==============================] - 1s 2ms/step\n",
            "361/361 [==============================] - 1s 2ms/step\n",
            "Pruned Batch ending with Channel: 12, Clean Data Accuracy: 0.0779423226812159, Attack Success Rate: 0.0\n"
          ]
        },
        {
          "output_type": "stream",
          "name": "stderr",
          "text": [
            "\r 57%|█████▋    | 17/30 [01:07<00:51,  3.96s/it]"
          ]
        },
        {
          "output_type": "stream",
          "name": "stdout",
          "text": [
            "361/361 [==============================] - 1s 2ms/step\n",
            "361/361 [==============================] - 1s 2ms/step\n"
          ]
        },
        {
          "output_type": "stream",
          "name": "stderr",
          "text": [
            "\r 60%|██████    | 18/30 [01:11<00:47,  3.99s/it]"
          ]
        },
        {
          "output_type": "stream",
          "name": "stdout",
          "text": [
            "Pruned Batch ending with Channel: 9, Clean Data Accuracy: 0.0779423226812159, Attack Success Rate: 0.0\n",
            "361/361 [==============================] - 1s 2ms/step\n",
            "361/361 [==============================] - 1s 2ms/step\n",
            "Pruned Batch ending with Channel: 24, Clean Data Accuracy: 0.0779423226812159, Attack Success Rate: 0.0\n"
          ]
        },
        {
          "output_type": "stream",
          "name": "stderr",
          "text": [
            "\r 63%|██████▎   | 19/30 [01:15<00:43,  3.99s/it]"
          ]
        },
        {
          "output_type": "stream",
          "name": "stdout",
          "text": [
            "361/361 [==============================] - 1s 2ms/step\n",
            "361/361 [==============================] - 1s 2ms/step\n",
            "Pruned Batch ending with Channel: 55, Clean Data Accuracy: 0.0779423226812159, Attack Success Rate: 0.0\n"
          ]
        },
        {
          "output_type": "stream",
          "name": "stderr",
          "text": [
            "\r 67%|██████▋   | 20/30 [01:19<00:39,  3.99s/it]"
          ]
        },
        {
          "output_type": "stream",
          "name": "stdout",
          "text": [
            "361/361 [==============================] - 1s 2ms/step\n",
            "361/361 [==============================] - 1s 2ms/step\n",
            "Pruned Batch ending with Channel: 50, Clean Data Accuracy: 0.0779423226812159, Attack Success Rate: 0.0\n"
          ]
        },
        {
          "output_type": "stream",
          "name": "stderr",
          "text": [
            "\r 70%|███████   | 21/30 [01:23<00:36,  4.03s/it]"
          ]
        },
        {
          "output_type": "stream",
          "name": "stdout",
          "text": [
            "361/361 [==============================] - 1s 2ms/step\n",
            "361/361 [==============================] - 1s 2ms/step\n",
            "Pruned Batch ending with Channel: 48, Clean Data Accuracy: 0.0779423226812159, Attack Success Rate: 0.0\n"
          ]
        },
        {
          "output_type": "stream",
          "name": "stderr",
          "text": [
            "\r 73%|███████▎  | 22/30 [01:27<00:32,  4.01s/it]"
          ]
        },
        {
          "output_type": "stream",
          "name": "stdout",
          "text": [
            "361/361 [==============================] - 1s 2ms/step\n",
            "361/361 [==============================] - 1s 2ms/step\n",
            "Pruned Batch ending with Channel: 45, Clean Data Accuracy: 0.0779423226812159, Attack Success Rate: 0.0\n"
          ]
        },
        {
          "output_type": "stream",
          "name": "stderr",
          "text": [
            "\r 77%|███████▋  | 23/30 [01:31<00:27,  4.00s/it]"
          ]
        },
        {
          "output_type": "stream",
          "name": "stdout",
          "text": [
            "361/361 [==============================] - 1s 2ms/step\n",
            "361/361 [==============================] - 1s 2ms/step\n"
          ]
        },
        {
          "output_type": "stream",
          "name": "stderr",
          "text": [
            "\r 80%|████████  | 24/30 [01:35<00:24,  4.01s/it]"
          ]
        },
        {
          "output_type": "stream",
          "name": "stdout",
          "text": [
            "Pruned Batch ending with Channel: 41, Clean Data Accuracy: 0.0779423226812159, Attack Success Rate: 0.0\n",
            "361/361 [==============================] - 1s 2ms/step\n",
            "361/361 [==============================] - 1s 2ms/step\n"
          ]
        },
        {
          "output_type": "stream",
          "name": "stderr",
          "text": [
            "\r 83%|████████▎ | 25/30 [01:39<00:19,  4.00s/it]"
          ]
        },
        {
          "output_type": "stream",
          "name": "stdout",
          "text": [
            "Pruned Batch ending with Channel: 25, Clean Data Accuracy: 0.0779423226812159, Attack Success Rate: 0.0\n",
            "361/361 [==============================] - 1s 2ms/step\n",
            "361/361 [==============================] - 1s 2ms/step\n"
          ]
        },
        {
          "output_type": "stream",
          "name": "stderr",
          "text": [
            "\r 87%|████████▋ | 26/30 [01:43<00:15,  3.97s/it]"
          ]
        },
        {
          "output_type": "stream",
          "name": "stdout",
          "text": [
            "Pruned Batch ending with Channel: 37, Clean Data Accuracy: 0.0779423226812159, Attack Success Rate: 0.0\n",
            "361/361 [==============================] - 1s 2ms/step\n",
            "361/361 [==============================] - 1s 2ms/step\n"
          ]
        },
        {
          "output_type": "stream",
          "name": "stderr",
          "text": [
            "\r 90%|█████████ | 27/30 [01:47<00:11,  4.00s/it]"
          ]
        },
        {
          "output_type": "stream",
          "name": "stdout",
          "text": [
            "Pruned Batch ending with Channel: 34, Clean Data Accuracy: 0.0779423226812159, Attack Success Rate: 0.0\n",
            "361/361 [==============================] - 1s 2ms/step\n",
            "361/361 [==============================] - 1s 2ms/step\n",
            "Pruned Batch ending with Channel: 31, Clean Data Accuracy: 0.0779423226812159, Attack Success Rate: 0.0\n"
          ]
        },
        {
          "output_type": "stream",
          "name": "stderr",
          "text": [
            "\r 93%|█████████▎| 28/30 [01:51<00:08,  4.01s/it]"
          ]
        },
        {
          "output_type": "stream",
          "name": "stdout",
          "text": [
            "361/361 [==============================] - 1s 2ms/step\n",
            "361/361 [==============================] - 1s 2ms/step\n"
          ]
        },
        {
          "output_type": "stream",
          "name": "stderr",
          "text": [
            "\r 97%|█████████▋| 29/30 [01:55<00:03,  3.98s/it]"
          ]
        },
        {
          "output_type": "stream",
          "name": "stdout",
          "text": [
            "Pruned Batch ending with Channel: 27, Clean Data Accuracy: 0.0779423226812159, Attack Success Rate: 0.0\n",
            "361/361 [==============================] - 1s 2ms/step\n",
            "361/361 [==============================] - 1s 2ms/step\n"
          ]
        },
        {
          "output_type": "stream",
          "name": "stderr",
          "text": [
            "100%|██████████| 30/30 [01:59<00:00,  3.99s/it]"
          ]
        },
        {
          "output_type": "stream",
          "name": "stdout",
          "text": [
            "Pruned Batch ending with Channel: 0, Clean Data Accuracy: 0.0779423226812159, Attack Success Rate: 0.0\n"
          ]
        },
        {
          "output_type": "stream",
          "name": "stderr",
          "text": [
            "\n"
          ]
        }
      ]
    },
    {
      "cell_type": "code",
      "source": [
        "print(\"Clean Classification Accuracy:\", accuracy_clean_data)\n",
        "print(\"Attack Success Rate:\", attack_success_rates)"
      ],
      "metadata": {
        "id": "QxOP1cuzMZnw",
        "colab": {
          "base_uri": "https://localhost:8080/"
        },
        "outputId": "8de9e798-982a-4fd0-edae-fad3a6f3f212"
      },
      "execution_count": 14,
      "outputs": [
        {
          "output_type": "stream",
          "name": "stdout",
          "text": [
            "Clean Classification Accuracy: [98.64899974019225, 98.64899974019225, 98.64899974019225, 98.64899974019225, 98.64899974019225, 98.64899974019225, 98.64899974019225, 98.64899974019225, 98.64899974019225, 98.64899974019225, 98.64899974019225, 98.64899974019225, 98.64899974019225, 98.64899974019225, 98.64899974019225, 98.64899974019225, 98.64033948211657, 98.63167922404088, 98.64899974019225, 98.57105741751104, 98.19000606218066, 97.50584567420108, 95.20221702606739, 92.09318437689443, 91.01931237550879, 84.43751623798389, 54.8627349095003, 13.87373343725643, 1.5501861955486274, 0.0779423226812159]\n",
            "Attack Success Rate: [100.0, 100.0, 100.0, 100.0, 100.0, 100.0, 100.0, 100.0, 100.0, 100.0, 100.0, 100.0, 100.0, 100.0, 100.0, 100.0, 100.0, 100.0, 100.0, 100.0, 100.0, 100.0, 99.9913397419243, 99.9913397419243, 99.98267948384861, 77.015675067117, 6.954187234779596, 0.0, 0.0, 0.0]\n"
          ]
        }
      ]
    },
    {
      "cell_type": "code",
      "source": [
        "figure = plt.figure(figsize=(10, 8))\n",
        "x_axis = np.arange(1, len(accuracy_clean_data) + 1) / len(accuracy_clean_data)\n",
        "\n",
        "# Scatter plot for clean accuracy and attack success rate\n",
        "plt.scatter(x_axis, accuracy_clean_data, color='red', label='Clean Accuracy')\n",
        "plt.scatter(x_axis, attack_success_rates, color='blue', label='Attack Success Rate')\n",
        "\n",
        "plt.legend()\n",
        "plt.xlabel(\"Fraction of Pruned Channels\")\n",
        "plt.ylabel(\"Rate\")\n",
        "plt.title(\"Classification Accuracy and Attack Success Rate for Validation Dataset\")\n",
        "plt.grid(True)\n",
        "plt.show()"
      ],
      "metadata": {
        "id": "OEBISsCzM3GH",
        "colab": {
          "base_uri": "https://localhost:8080/",
          "height": 535
        },
        "outputId": "4289a4df-9f5b-4f6b-c31b-738ba7ce46b9"
      },
      "execution_count": 15,
      "outputs": [
        {
          "output_type": "display_data",
          "data": {
            "text/plain": [
              "<Figure size 1000x800 with 1 Axes>"
            ],
            "image/png": "[encoded data removed]"
          },
          "metadata": {}
        }
      ]
    },
    {
      "cell_type": "code",
      "source": [
        "# Find indices where accuracy drops by at least 30%\n",
        "indices = np.where(np.array(accuracy_clean_data) <= (initial_clean_accuracy - 30))[0]\n",
        "\n",
        "if len(indices) > 0:\n",
        "    # If there's at least one instance where accuracy drops by 30%\n",
        "    print(\"Attack Success Rate when accuracy drops by at least 30%:\", attack_success_rates[indices[0]])\n",
        "else:\n",
        "    # If no such instance is found\n",
        "    print(\"No instance found where accuracy drops by at least 30%\")"
      ],
      "metadata": {
        "id": "zU9B0KKyPafP",
        "colab": {
          "base_uri": "https://localhost:8080/"
        },
        "outputId": "13ae2a6d-7414-4a18-dd62-de21d810217a"
      },
      "execution_count": 16,
      "outputs": [
        {
          "output_type": "stream",
          "name": "stdout",
          "text": [
            "Attack Success Rate when accuracy drops by at least 30%: 6.954187234779596\n"
          ]
        }
      ]
    },
    {
      "cell_type": "markdown",
      "source": [
        "## Creating GoodNet\n",
        "Here we combine two models which are __B__\n",
        " (original badnet model) and __B'__\n",
        " (pruned model). The combined model is the GoodNet. If the preditions from __B__\n",
        " and __B'__\n",
        " are the same then the GoodNet will output the predition."
      ],
      "metadata": {
        "id": "ppkVCB4fkCnC"
      }
    },
    {
      "cell_type": "code",
      "source": [
        "class G(keras.Model):\n",
        "    def __init__(self, B, B_prime):\n",
        "        super(G, self).__init__()\n",
        "        self.B = B\n",
        "        self.B_prime = B_prime\n",
        "\n",
        "    def predict(self, data, batch_size=32):  # Add batch processing\n",
        "        y = np.argmax(self.B.predict(data, batch_size=batch_size), axis=1)\n",
        "        y_prime = np.argmax(self.B_prime.predict(data, batch_size=batch_size), axis=1)\n",
        "\n",
        "        # Vectorized comparison\n",
        "        pred = np.where(y == y_prime, y, 1283)\n",
        "        return pred"
      ],
      "metadata": {
        "id": "LmayLWiMPybb"
      },
      "execution_count": 17,
      "outputs": []
    },
    {
      "cell_type": "code",
      "source": [
        "test_data_filename = r'/content/drive/MyDrive/data/cl/test.h5'\n",
        "poisoned_test_data_filename = r'/content/drive/MyDrive/data/bd/bd_test.h5'\n",
        "test_model_X_2_filename = '/content/MLSec-BackDoor-Attacks/lab3/repaired_models/model_drop_2.h5'\n",
        "test_model_X_4_filename = '/content/MLSec-BackDoor-Attacks/lab3/repaired_models/model_drop_4.h5'\n",
        "test_model_X_10_filename = '/content/MLSec-BackDoor-Attacks/lab3/repaired_models/model_drop_10.h5'"
      ],
      "metadata": {
        "id": "g2eY4TJRk6nk"
      },
      "execution_count": 18,
      "outputs": []
    },
    {
      "cell_type": "code",
      "source": [
        "test_model_X_2 = keras.models.load_model(test_model_X_2_filename)\n",
        "test_model_X_4 = keras.models.load_model(test_model_X_4_filename)\n",
        "test_model_X_10 = keras.models.load_model(test_model_X_10_filename)"
      ],
      "metadata": {
        "colab": {
          "base_uri": "https://localhost:8080/"
        },
        "id": "7xyTgRIblVaJ",
        "outputId": "a421bd55-c9d2-4259-98b9-cc1337d81132"
      },
      "execution_count": 19,
      "outputs": [
        {
          "output_type": "stream",
          "name": "stderr",
          "text": [
            "WARNING:tensorflow:No training configuration found in the save file, so the model was *not* compiled. Compile it manually.\n",
            "WARNING:tensorflow:No training configuration found in the save file, so the model was *not* compiled. Compile it manually.\n",
            "WARNING:tensorflow:No training configuration found in the save file, so the model was *not* compiled. Compile it manually.\n"
          ]
        }
      ]
    },
    {
      "cell_type": "code",
      "source": [
        "x_test_data, y_test_data = load_data(test_data_filename)\n",
        "x_test_poisoned_data, y_test_poisoned_data = load_data(poisoned_test_data_filename)"
      ],
      "metadata": {
        "id": "ALIj9L2ZlgHA"
      },
      "execution_count": 20,
      "outputs": []
    },
    {
      "cell_type": "code",
      "source": [
        "print(\"Shape of x_test_data:\", x_test_data.shape)\n",
        "print(\"Shape of x_test_poisoned_data:\", x_test_poisoned_data.shape)"
      ],
      "metadata": {
        "colab": {
          "base_uri": "https://localhost:8080/"
        },
        "id": "B6JQsoFUln3Z",
        "outputId": "65e7205c-1b79-4ef3-9120-e3dce3581f1f"
      },
      "execution_count": 21,
      "outputs": [
        {
          "output_type": "stream",
          "name": "stdout",
          "text": [
            "Shape of x_test_data: (12830, 55, 47, 3)\n",
            "Shape of x_test_poisoned_data: (12830, 55, 47, 3)\n"
          ]
        }
      ]
    },
    {
      "cell_type": "code",
      "source": [
        "G_model_X_2 = G(model, test_model_X_2)\n",
        "G_model_X_4 = G(model, test_model_X_4)\n",
        "G_model_X_10 = G(model, test_model_X_10)"
      ],
      "metadata": {
        "id": "xU-D6SZelsW2"
      },
      "execution_count": 22,
      "outputs": []
    },
    {
      "cell_type": "markdown",
      "source": [
        "##Evaluating on the test dataset"
      ],
      "metadata": {
        "id": "eNqyS89Ul-Ov"
      }
    },
    {
      "cell_type": "code",
      "source": [
        "def calculate_accuracy(G_model, x_data, y_data):\n",
        "    predictions = G_model.predict(x_data)\n",
        "    accuracy = np.mean(np.equal(predictions, y_data)) * 100\n",
        "    return accuracy"
      ],
      "metadata": {
        "id": "JCfoC8wA1kkS"
      },
      "execution_count": 23,
      "outputs": []
    },
    {
      "cell_type": "code",
      "source": [
        "cl_test_2_label_pred = np.argmax(test_model_X_2.predict(x_test_data), axis=1)\n",
        "cl_test_2_acc = np.mean(np.equal(cl_test_2_label_pred, y_test_data))*100\n",
        "print('2% Accuracy drop model, Clean test data classification accuracy:', cl_test_2_acc)\n",
        "\n",
        "bd_test_2_label_pred = np.argmax(test_model_X_2.predict(x_test_poisoned_data), axis=1)\n",
        "asr_2 = np.mean(np.equal(bd_test_2_label_pred, y_test_poisoned_data))*100\n",
        "print('2% Accuracy drop model, Attack Success Rate:', asr_2)\n",
        "\n",
        "cl_test_4_label_pred = np.argmax(test_model_X_4.predict(x_test_data), axis=1)\n",
        "cl_test_4_acc = np.mean(np.equal(cl_test_4_label_pred, y_test_data))*100\n",
        "print('4% Accuracy drop model, Clean test data classification accuracy:', cl_test_4_acc)\n",
        "\n",
        "bd_test_4_label_pred = np.argmax(test_model_X_4.predict(x_test_poisoned_data), axis=1)\n",
        "asr_4 = np.mean(np.equal(bd_test_4_label_pred, y_test_poisoned_data))*100\n",
        "print('4% Accuracy drop model, Attack Success Rate:', asr_4)\n",
        "\n",
        "cl_test_10_label_pred = np.argmax(test_model_X_10.predict(x_test_data), axis=1)\n",
        "cl_test_10_acc = np.mean(np.equal(cl_test_10_label_pred, y_test_data))*100\n",
        "print('10% Accuracy drop model, Clean test data classification accuracy:', cl_test_10_acc)\n",
        "\n",
        "bd_test_10_label_pred = np.argmax(test_model_X_10.predict(x_test_poisoned_data), axis=1)\n",
        "asr_10 = np.mean(np.equal(bd_test_10_label_pred, y_test_poisoned_data))*100\n",
        "print('10% Accuracy drop model, Attack Success Rate:', asr_10)"
      ],
      "metadata": {
        "colab": {
          "base_uri": "https://localhost:8080/"
        },
        "id": "lDRvX98Ul0LF",
        "outputId": "19749b96-12ef-460e-a199-2a631fc5ab68"
      },
      "execution_count": 24,
      "outputs": [
        {
          "output_type": "stream",
          "name": "stdout",
          "text": [
            "401/401 [==============================] - 1s 2ms/step\n",
            "2% Accuracy drop model, Clean test data classification accuracy: 95.5261106780982\n",
            "401/401 [==============================] - 1s 2ms/step\n",
            "2% Accuracy drop model, Attack Success Rate: 99.97661730319564\n",
            "401/401 [==============================] - 1s 2ms/step\n",
            "4% Accuracy drop model, Clean test data classification accuracy: 92.29150428682775\n",
            "401/401 [==============================] - 1s 2ms/step\n",
            "4% Accuracy drop model, Attack Success Rate: 99.98441153546376\n",
            "401/401 [==============================] - 1s 2ms/step\n",
            "10% Accuracy drop model, Clean test data classification accuracy: 84.54403741231489\n",
            "401/401 [==============================] - 1s 2ms/step\n",
            "10% Accuracy drop model, Attack Success Rate: 77.20966484801247\n"
          ]
        }
      ]
    },
    {
      "cell_type": "markdown",
      "source": [
        "##Summerizing the fixed models"
      ],
      "metadata": {
        "id": "Od8TsJjIme-q"
      }
    },
    {
      "cell_type": "code",
      "source": [
        "test_acc = [cl_test_2_acc, cl_test_4_acc, cl_test_10_acc]\n",
        "attack_rate = [asr_2, asr_4, asr_10]\n",
        "data = {\n",
        "    \"Test data classification accuracy\": test_acc,\n",
        "    \"Attack Rate\": attack_rate,\n",
        "    \"Model\": [\"Repaired_2%\", \"Repaired_4%\", \"Repaired_10%\"]\n",
        "}\n",
        "df = pd.DataFrame(data)\n",
        "df.set_index('Model')"
      ],
      "metadata": {
        "colab": {
          "base_uri": "https://localhost:8080/",
          "height": 175
        },
        "id": "fPHR83iBl0Ad",
        "outputId": "fd416abe-a4bb-4868-ffb6-48ee749e6a07"
      },
      "execution_count": 25,
      "outputs": [
        {
          "output_type": "execute_result",
          "data": {
            "text/plain": [
              "              Test data classification accuracy  Attack Rate\n",
              "Model                                                       \n",
              "Repaired_2%                           95.526111    99.976617\n",
              "Repaired_4%                           92.291504    99.984412\n",
              "Repaired_10%                          84.544037    77.209665"
            ],
            "text/html": [
              "\n",
              "  <div id=\"df-f2c3824a-392d-43ad-9166-f712db6b41c3\" class=\"colab-df-container\">\n",
              "    <div>\n",
              "<style scoped>\n",
              "    .dataframe tbody tr th:only-of-type {\n",
              "        vertical-align: middle;\n",
              "    }\n",
              "\n",
              "    .dataframe tbody tr th {\n",
              "        vertical-align: top;\n",
              "    }\n",
              "\n",
              "    .dataframe thead th {\n",
              "        text-align: right;\n",
              "    }\n",
              "</style>\n",
              "<table border=\"1\" class=\"dataframe\">\n",
              "  <thead>\n",
              "    <tr style=\"text-align: right;\">\n",
              "      <th></th>\n",
              "      <th>Test data classification accuracy</th>\n",
              "      <th>Attack Rate</th>\n",
              "    </tr>\n",
              "    <tr>\n",
              "      <th>Model</th>\n",
              "      <th></th>\n",
              "      <th></th>\n",
              "    </tr>\n",
              "  </thead>\n",
              "  <tbody>\n",
              "    <tr>\n",
              "      <th>Repaired_2%</th>\n",
              "      <td>95.526111</td>\n",
              "      <td>99.976617</td>\n",
              "    </tr>\n",
              "    <tr>\n",
              "      <th>Repaired_4%</th>\n",
              "      <td>92.291504</td>\n",
              "      <td>99.984412</td>\n",
              "    </tr>\n",
              "    <tr>\n",
              "      <th>Repaired_10%</th>\n",
              "      <td>84.544037</td>\n",
              "      <td>77.209665</td>\n",
              "    </tr>\n",
              "  </tbody>\n",
              "</table>\n",
              "</div>\n",
              "    <div class=\"colab-df-buttons\">\n",
              "\n",
              "  <div class=\"colab-df-container\">\n",
              "    <button class=\"colab-df-convert\" onclick=\"convertToInteractive('df-f2c3824a-392d-43ad-9166-f712db6b41c3')\"\n",
              "            title=\"Convert this dataframe to an interactive table.\"\n",
              "            style=\"display:none;\">\n",
              "\n",
              "  <svg xmlns=\"http://www.w3.org/2000/svg\" height=\"24px\" viewBox=\"0 -960 960 960\">\n",
              "    <path d=\"M120-120v-720h720v720H120Zm60-500h600v-160H180v160Zm220 220h160v-160H400v160Zm0 220h160v-160H400v160ZM180-400h160v-160H180v160Zm440 0h160v-160H620v160ZM180-180h160v-160H180v160Zm440 0h160v-160H620v160Z\"/>\n",
              "  </svg>\n",
              "    </button>\n",
              "\n",
              "  <style>\n",
              "    .colab-df-container {\n",
              "      display:flex;\n",
              "      gap: 12px;\n",
              "    }\n",
              "\n",
              "    .colab-df-convert {\n",
              "      background-color: #E8F0FE;\n",
              "      border: none;\n",
              "      border-radius: 50%;\n",
              "      cursor: pointer;\n",
              "      display: none;\n",
              "      fill: #1967D2;\n",
              "      height: 32px;\n",
              "      padding: 0 0 0 0;\n",
              "      width: 32px;\n",
              "    }\n",
              "\n",
              "    .colab-df-convert:hover {\n",
              "      background-color: #E2EBFA;\n",
              "      box-shadow: 0px 1px 2px rgba(60, 64, 67, 0.3), 0px 1px 3px 1px rgba(60, 64, 67, 0.15);\n",
              "      fill: #174EA6;\n",
              "    }\n",
              "\n",
              "    .colab-df-buttons div {\n",
              "      margin-bottom: 4px;\n",
              "    }\n",
              "\n",
              "    [theme=dark] .colab-df-convert {\n",
              "      background-color: #3B4455;\n",
              "      fill: #D2E3FC;\n",
              "    }\n",
              "\n",
              "    [theme=dark] .colab-df-convert:hover {\n",
              "      background-color: #434B5C;\n",
              "      box-shadow: 0px 1px 3px 1px rgba(0, 0, 0, 0.15);\n",
              "      filter: drop-shadow(0px 1px 2px rgba(0, 0, 0, 0.3));\n",
              "      fill: #FFFFFF;\n",
              "    }\n",
              "  </style>\n",
              "\n",
              "    <script>\n",
              "      const buttonEl =\n",
              "        document.querySelector('#df-f2c3824a-392d-43ad-9166-f712db6b41c3 button.colab-df-convert');\n",
              "      buttonEl.style.display =\n",
              "        google.colab.kernel.accessAllowed ? 'block' : 'none';\n",
              "\n",
              "      async function convertToInteractive(key) {\n",
              "        const element = document.querySelector('#df-f2c3824a-392d-43ad-9166-f712db6b41c3');\n",
              "        const dataTable =\n",
              "          await google.colab.kernel.invokeFunction('convertToInteractive',\n",
              "                                                    [key], {});\n",
              "        if (!dataTable) return;\n",
              "\n",
              "        const docLinkHtml = 'Like what you see? Visit the ' +\n",
              "          '<a target=\"_blank\" href=https://colab.research.google.com/notebooks/data_table.ipynb>data table notebook</a>'\n",
              "          + ' to learn more about interactive tables.';\n",
              "        element.innerHTML = '';\n",
              "        dataTable['output_type'] = 'display_data';\n",
              "        await google.colab.output.renderOutput(dataTable, element);\n",
              "        const docLink = document.createElement('div');\n",
              "        docLink.innerHTML = docLinkHtml;\n",
              "        element.appendChild(docLink);\n",
              "      }\n",
              "    </script>\n",
              "  </div>\n",
              "\n",
              "\n",
              "<div id=\"df-b344bd22-8430-43f6-8cc2-20cbc64f3deb\">\n",
              "  <button class=\"colab-df-quickchart\" onclick=\"quickchart('df-b344bd22-8430-43f6-8cc2-20cbc64f3deb')\"\n",
              "            title=\"Suggest charts\"\n",
              "            style=\"display:none;\">\n",
              "\n",
              "<svg xmlns=\"http://www.w3.org/2000/svg\" height=\"24px\"viewBox=\"0 0 24 24\"\n",
              "     width=\"24px\">\n",
              "    <g>\n",
              "        <path d=\"M19 3H5c-1.1 0-2 .9-2 2v14c0 1.1.9 2 2 2h14c1.1 0 2-.9 2-2V5c0-1.1-.9-2-2-2zM9 17H7v-7h2v7zm4 0h-2V7h2v10zm4 0h-2v-4h2v4z\"/>\n",
              "    </g>\n",
              "</svg>\n",
              "  </button>\n",
              "\n",
              "<style>\n",
              "  .colab-df-quickchart {\n",
              "      --bg-color: #E8F0FE;\n",
              "      --fill-color: #1967D2;\n",
              "      --hover-bg-color: #E2EBFA;\n",
              "      --hover-fill-color: #174EA6;\n",
              "      --disabled-fill-color: #AAA;\n",
              "      --disabled-bg-color: #DDD;\n",
              "  }\n",
              "\n",
              "  [theme=dark] .colab-df-quickchart {\n",
              "      --bg-color: #3B4455;\n",
              "      --fill-color: #D2E3FC;\n",
              "      --hover-bg-color: #434B5C;\n",
              "      --hover-fill-color: #FFFFFF;\n",
              "      --disabled-bg-color: #3B4455;\n",
              "      --disabled-fill-color: #666;\n",
              "  }\n",
              "\n",
              "  .colab-df-quickchart {\n",
              "    background-color: var(--bg-color);\n",
              "    border: none;\n",
              "    border-radius: 50%;\n",
              "    cursor: pointer;\n",
              "    display: none;\n",
              "    fill: var(--fill-color);\n",
              "    height: 32px;\n",
              "    padding: 0;\n",
              "    width: 32px;\n",
              "  }\n",
              "\n",
              "  .colab-df-quickchart:hover {\n",
              "    background-color: var(--hover-bg-color);\n",
              "    box-shadow: 0 1px 2px rgba(60, 64, 67, 0.3), 0 1px 3px 1px rgba(60, 64, 67, 0.15);\n",
              "    fill: var(--button-hover-fill-color);\n",
              "  }\n",
              "\n",
              "  .colab-df-quickchart-complete:disabled,\n",
              "  .colab-df-quickchart-complete:disabled:hover {\n",
              "    background-color: var(--disabled-bg-color);\n",
              "    fill: var(--disabled-fill-color);\n",
              "    box-shadow: none;\n",
              "  }\n",
              "\n",
              "  .colab-df-spinner {\n",
              "    border: 2px solid var(--fill-color);\n",
              "    border-color: transparent;\n",
              "    border-bottom-color: var(--fill-color);\n",
              "    animation:\n",
              "      spin 1s steps(1) infinite;\n",
              "  }\n",
              "\n",
              "  @keyframes spin {\n",
              "    0% {\n",
              "      border-color: transparent;\n",
              "      border-bottom-color: var(--fill-color);\n",
              "      border-left-color: var(--fill-color);\n",
              "    }\n",
              "    20% {\n",
              "      border-color: transparent;\n",
              "      border-left-color: var(--fill-color);\n",
              "      border-top-color: var(--fill-color);\n",
              "    }\n",
              "    30% {\n",
              "      border-color: transparent;\n",
              "      border-left-color: var(--fill-color);\n",
              "      border-top-color: var(--fill-color);\n",
              "      border-right-color: var(--fill-color);\n",
              "    }\n",
              "    40% {\n",
              "      border-color: transparent;\n",
              "      border-right-color: var(--fill-color);\n",
              "      border-top-color: var(--fill-color);\n",
              "    }\n",
              "    60% {\n",
              "      border-color: transparent;\n",
              "      border-right-color: var(--fill-color);\n",
              "    }\n",
              "    80% {\n",
              "      border-color: transparent;\n",
              "      border-right-color: var(--fill-color);\n",
              "      border-bottom-color: var(--fill-color);\n",
              "    }\n",
              "    90% {\n",
              "      border-color: transparent;\n",
              "      border-bottom-color: var(--fill-color);\n",
              "    }\n",
              "  }\n",
              "</style>\n",
              "\n",
              "  <script>\n",
              "    async function quickchart(key) {\n",
              "      const quickchartButtonEl =\n",
              "        document.querySelector('#' + key + ' button');\n",
              "      quickchartButtonEl.disabled = true;  // To prevent multiple clicks.\n",
              "      quickchartButtonEl.classList.add('colab-df-spinner');\n",
              "      try {\n",
              "        const charts = await google.colab.kernel.invokeFunction(\n",
              "            'suggestCharts', [key], {});\n",
              "      } catch (error) {\n",
              "        console.error('Error during call to suggestCharts:', error);\n",
              "      }\n",
              "      quickchartButtonEl.classList.remove('colab-df-spinner');\n",
              "      quickchartButtonEl.classList.add('colab-df-quickchart-complete');\n",
              "    }\n",
              "    (() => {\n",
              "      let quickchartButtonEl =\n",
              "        document.querySelector('#df-b344bd22-8430-43f6-8cc2-20cbc64f3deb button');\n",
              "      quickchartButtonEl.style.display =\n",
              "        google.colab.kernel.accessAllowed ? 'block' : 'none';\n",
              "    })();\n",
              "  </script>\n",
              "</div>\n",
              "\n",
              "    </div>\n",
              "  </div>\n"
            ]
          },
          "metadata": {},
          "execution_count": 25
        }
      ]
    },
    {
      "cell_type": "code",
      "source": [
        "figure = plt.figure(figsize=(10, 8))\n",
        "accuracy_drop_levels = np.array([2, 4, 10])  # Accuracy drop levels\n",
        "\n",
        "plt.plot(accuracy_drop_levels, test_acc, marker='o', color='green', label='Accuracy', linestyle='-', linewidth=2)\n",
        "plt.plot(accuracy_drop_levels, attack_rate, marker='s', color='red', label='Attack Success Rate', linestyle='-', linewidth=2)\n",
        "\n",
        "plt.xlabel('Model Accuracy Drop (%)')\n",
        "plt.ylabel('Rate')\n",
        "plt.title('Performance of Repaired Model')\n",
        "plt.xticks(accuracy_drop_levels)\n",
        "plt.legend()\n",
        "plt.grid(True)\n",
        "plt.show()\n"
      ],
      "metadata": {
        "colab": {
          "base_uri": "https://localhost:8080/",
          "height": 535
        },
        "id": "YZzuEyQamEvz",
        "outputId": "a6e8c517-7c07-4f2e-8b6d-38387a3ee649"
      },
      "execution_count": 26,
      "outputs": [
        {
          "output_type": "display_data",
          "data": {
            "text/plain": [
              "<Figure size 1000x800 with 1 Axes>"
            ],
            "image/png": "[encoded data removed]"
          },
          "metadata": {}
        }
      ]
    },
    {
      "cell_type": "markdown",
      "source": [
        "These are the GoodNets which combine the two models that are the original badnet and the 'fixed' model"
      ],
      "metadata": {
        "id": "MAQL0MaSm3GI"
      }
    },
    {
      "cell_type": "code",
      "source": [
        "G_cl_test_2_acc = calculate_accuracy(G_model_X_2, x_test_data, y_test_data)\n",
        "print('Combined 2% accuracy drop model, Clean test data Classification Accuracy:', G_cl_test_2_acc)\n",
        "\n",
        "G_asr_2 = calculate_accuracy(G_model_X_2, x_test_poisoned_data, y_test_poisoned_data)\n",
        "print('Combined 2% accuracy drop model, Attack Success Rate:', G_asr_2)\n",
        "\n",
        "G_cl_test_4_acc = calculate_accuracy(G_model_X_4, x_test_data, y_test_data)\n",
        "print('Combined 4% accuracy drop model, Clean test data Classification Accuracy:', G_cl_test_4_acc)\n",
        "\n",
        "G_asr_4 = calculate_accuracy(G_model_X_4, x_test_poisoned_data, y_test_poisoned_data)\n",
        "print('Combined 4% accuracy drop model, Attack Success Rate:', G_asr_4)\n",
        "\n",
        "G_cl_test_10_acc = calculate_accuracy(G_model_X_10, x_test_data, y_test_data)\n",
        "print('Combined 10% accuracy drop model, Clean test data Classification Accuracy:', G_cl_test_10_acc)\n",
        "\n",
        "G_asr_10 = calculate_accuracy(G_model_X_10, x_test_poisoned_data, y_test_poisoned_data)\n",
        "print('Combined 10% accuracy drop model, Attack Success Rate:', G_asr_10)"
      ],
      "metadata": {
        "colab": {
          "base_uri": "https://localhost:8080/"
        },
        "id": "kMjpGvbnmzpA",
        "outputId": "54fb10ae-f0d4-40b3-c8f5-d57e8192c527"
      },
      "execution_count": 27,
      "outputs": [
        {
          "output_type": "stream",
          "name": "stdout",
          "text": [
            "401/401 [==============================] - 1s 2ms/step\n",
            "401/401 [==============================] - 1s 2ms/step\n",
            "Combined 2% accuracy drop model, Clean test data Classification Accuracy: 95.34684333593141\n",
            "401/401 [==============================] - 1s 2ms/step\n",
            "401/401 [==============================] - 1s 2ms/step\n",
            "Combined 2% accuracy drop model, Attack Success Rate: 99.97661730319564\n",
            "401/401 [==============================] - 1s 2ms/step\n",
            "401/401 [==============================] - 1s 2ms/step\n",
            "Combined 4% accuracy drop model, Clean test data Classification Accuracy: 92.1278254091972\n",
            "401/401 [==============================] - 1s 2ms/step\n",
            "401/401 [==============================] - 1s 2ms/step\n",
            "Combined 4% accuracy drop model, Attack Success Rate: 99.98441153546376\n",
            "401/401 [==============================] - 1s 2ms/step\n",
            "401/401 [==============================] - 1s 2ms/step\n",
            "Combined 10% accuracy drop model, Clean test data Classification Accuracy: 84.3335931410756\n",
            "401/401 [==============================] - 1s 2ms/step\n",
            "401/401 [==============================] - 1s 2ms/step\n",
            "Combined 10% accuracy drop model, Attack Success Rate: 77.20966484801247\n"
          ]
        }
      ]
    },
    {
      "cell_type": "code",
      "source": [
        "G_test_acc = [G_cl_test_2_acc, G_cl_test_4_acc, G_cl_test_10_acc]\n",
        "G_attack_rate = [G_asr_2, G_asr_4, G_asr_10]\n",
        "G_data = {\n",
        "    \"G Test Accuracy\": G_test_acc,\n",
        "    \"G Attack Success Rate\": G_attack_rate,\n",
        "    \"G Model\": [\"G_2%\", \"G_4%\", \"G_10%\"]\n",
        "}\n",
        "G_df = pd.DataFrame(G_data)\n",
        "G_df.set_index('G Model')"
      ],
      "metadata": {
        "colab": {
          "base_uri": "https://localhost:8080/",
          "height": 175
        },
        "id": "7gVI8phyzOuw",
        "outputId": "118ac9d2-864d-407d-c106-0c155bb1cfac"
      },
      "execution_count": 28,
      "outputs": [
        {
          "output_type": "execute_result",
          "data": {
            "text/plain": [
              "         G Test Accuracy  G Attack Success Rate\n",
              "G Model                                        \n",
              "G_2%           95.346843              99.976617\n",
              "G_4%           92.127825              99.984412\n",
              "G_10%          84.333593              77.209665"
            ],
            "text/html": [
              "\n",
              "  <div id=\"df-da7c6254-68eb-46d3-8da3-084f29f5c8f4\" class=\"colab-df-container\">\n",
              "    <div>\n",
              "<style scoped>\n",
              "    .dataframe tbody tr th:only-of-type {\n",
              "        vertical-align: middle;\n",
              "    }\n",
              "\n",
              "    .dataframe tbody tr th {\n",
              "        vertical-align: top;\n",
              "    }\n",
              "\n",
              "    .dataframe thead th {\n",
              "        text-align: right;\n",
              "    }\n",
              "</style>\n",
              "<table border=\"1\" class=\"dataframe\">\n",
              "  <thead>\n",
              "    <tr style=\"text-align: right;\">\n",
              "      <th></th>\n",
              "      <th>G Test Accuracy</th>\n",
              "      <th>G Attack Success Rate</th>\n",
              "    </tr>\n",
              "    <tr>\n",
              "      <th>G Model</th>\n",
              "      <th></th>\n",
              "      <th></th>\n",
              "    </tr>\n",
              "  </thead>\n",
              "  <tbody>\n",
              "    <tr>\n",
              "      <th>G_2%</th>\n",
              "      <td>95.346843</td>\n",
              "      <td>99.976617</td>\n",
              "    </tr>\n",
              "    <tr>\n",
              "      <th>G_4%</th>\n",
              "      <td>92.127825</td>\n",
              "      <td>99.984412</td>\n",
              "    </tr>\n",
              "    <tr>\n",
              "      <th>G_10%</th>\n",
              "      <td>84.333593</td>\n",
              "      <td>77.209665</td>\n",
              "    </tr>\n",
              "  </tbody>\n",
              "</table>\n",
              "</div>\n",
              "    <div class=\"colab-df-buttons\">\n",
              "\n",
              "  <div class=\"colab-df-container\">\n",
              "    <button class=\"colab-df-convert\" onclick=\"convertToInteractive('df-da7c6254-68eb-46d3-8da3-084f29f5c8f4')\"\n",
              "            title=\"Convert this dataframe to an interactive table.\"\n",
              "            style=\"display:none;\">\n",
              "\n",
              "  <svg xmlns=\"http://www.w3.org/2000/svg\" height=\"24px\" viewBox=\"0 -960 960 960\">\n",
              "    <path d=\"M120-120v-720h720v720H120Zm60-500h600v-160H180v160Zm220 220h160v-160H400v160Zm0 220h160v-160H400v160ZM180-400h160v-160H180v160Zm440 0h160v-160H620v160ZM180-180h160v-160H180v160Zm440 0h160v-160H620v160Z\"/>\n",
              "  </svg>\n",
              "    </button>\n",
              "\n",
              "  <style>\n",
              "    .colab-df-container {\n",
              "      display:flex;\n",
              "      gap: 12px;\n",
              "    }\n",
              "\n",
              "    .colab-df-convert {\n",
              "      background-color: #E8F0FE;\n",
              "      border: none;\n",
              "      border-radius: 50%;\n",
              "      cursor: pointer;\n",
              "      display: none;\n",
              "      fill: #1967D2;\n",
              "      height: 32px;\n",
              "      padding: 0 0 0 0;\n",
              "      width: 32px;\n",
              "    }\n",
              "\n",
              "    .colab-df-convert:hover {\n",
              "      background-color: #E2EBFA;\n",
              "      box-shadow: 0px 1px 2px rgba(60, 64, 67, 0.3), 0px 1px 3px 1px rgba(60, 64, 67, 0.15);\n",
              "      fill: #174EA6;\n",
              "    }\n",
              "\n",
              "    .colab-df-buttons div {\n",
              "      margin-bottom: 4px;\n",
              "    }\n",
              "\n",
              "    [theme=dark] .colab-df-convert {\n",
              "      background-color: #3B4455;\n",
              "      fill: #D2E3FC;\n",
              "    }\n",
              "\n",
              "    [theme=dark] .colab-df-convert:hover {\n",
              "      background-color: #434B5C;\n",
              "      box-shadow: 0px 1px 3px 1px rgba(0, 0, 0, 0.15);\n",
              "      filter: drop-shadow(0px 1px 2px rgba(0, 0, 0, 0.3));\n",
              "      fill: #FFFFFF;\n",
              "    }\n",
              "  </style>\n",
              "\n",
              "    <script>\n",
              "      const buttonEl =\n",
              "        document.querySelector('#df-da7c6254-68eb-46d3-8da3-084f29f5c8f4 button.colab-df-convert');\n",
              "      buttonEl.style.display =\n",
              "        google.colab.kernel.accessAllowed ? 'block' : 'none';\n",
              "\n",
              "      async function convertToInteractive(key) {\n",
              "        const element = document.querySelector('#df-da7c6254-68eb-46d3-8da3-084f29f5c8f4');\n",
              "        const dataTable =\n",
              "          await google.colab.kernel.invokeFunction('convertToInteractive',\n",
              "                                                    [key], {});\n",
              "        if (!dataTable) return;\n",
              "\n",
              "        const docLinkHtml = 'Like what you see? Visit the ' +\n",
              "          '<a target=\"_blank\" href=https://colab.research.google.com/notebooks/data_table.ipynb>data table notebook</a>'\n",
              "          + ' to learn more about interactive tables.';\n",
              "        element.innerHTML = '';\n",
              "        dataTable['output_type'] = 'display_data';\n",
              "        await google.colab.output.renderOutput(dataTable, element);\n",
              "        const docLink = document.createElement('div');\n",
              "        docLink.innerHTML = docLinkHtml;\n",
              "        element.appendChild(docLink);\n",
              "      }\n",
              "    </script>\n",
              "  </div>\n",
              "\n",
              "\n",
              "<div id=\"df-f1fc2a04-1cfa-4c88-a0b6-b33b84728a71\">\n",
              "  <button class=\"colab-df-quickchart\" onclick=\"quickchart('df-f1fc2a04-1cfa-4c88-a0b6-b33b84728a71')\"\n",
              "            title=\"Suggest charts\"\n",
              "            style=\"display:none;\">\n",
              "\n",
              "<svg xmlns=\"http://www.w3.org/2000/svg\" height=\"24px\"viewBox=\"0 0 24 24\"\n",
              "     width=\"24px\">\n",
              "    <g>\n",
              "        <path d=\"M19 3H5c-1.1 0-2 .9-2 2v14c0 1.1.9 2 2 2h14c1.1 0 2-.9 2-2V5c0-1.1-.9-2-2-2zM9 17H7v-7h2v7zm4 0h-2V7h2v10zm4 0h-2v-4h2v4z\"/>\n",
              "    </g>\n",
              "</svg>\n",
              "  </button>\n",
              "\n",
              "<style>\n",
              "  .colab-df-quickchart {\n",
              "      --bg-color: #E8F0FE;\n",
              "      --fill-color: #1967D2;\n",
              "      --hover-bg-color: #E2EBFA;\n",
              "      --hover-fill-color: #174EA6;\n",
              "      --disabled-fill-color: #AAA;\n",
              "      --disabled-bg-color: #DDD;\n",
              "  }\n",
              "\n",
              "  [theme=dark] .colab-df-quickchart {\n",
              "      --bg-color: #3B4455;\n",
              "      --fill-color: #D2E3FC;\n",
              "      --hover-bg-color: #434B5C;\n",
              "      --hover-fill-color: #FFFFFF;\n",
              "      --disabled-bg-color: #3B4455;\n",
              "      --disabled-fill-color: #666;\n",
              "  }\n",
              "\n",
              "  .colab-df-quickchart {\n",
              "    background-color: var(--bg-color);\n",
              "    border: none;\n",
              "    border-radius: 50%;\n",
              "    cursor: pointer;\n",
              "    display: none;\n",
              "    fill: var(--fill-color);\n",
              "    height: 32px;\n",
              "    padding: 0;\n",
              "    width: 32px;\n",
              "  }\n",
              "\n",
              "  .colab-df-quickchart:hover {\n",
              "    background-color: var(--hover-bg-color);\n",
              "    box-shadow: 0 1px 2px rgba(60, 64, 67, 0.3), 0 1px 3px 1px rgba(60, 64, 67, 0.15);\n",
              "    fill: var(--button-hover-fill-color);\n",
              "  }\n",
              "\n",
              "  .colab-df-quickchart-complete:disabled,\n",
              "  .colab-df-quickchart-complete:disabled:hover {\n",
              "    background-color: var(--disabled-bg-color);\n",
              "    fill: var(--disabled-fill-color);\n",
              "    box-shadow: none;\n",
              "  }\n",
              "\n",
              "  .colab-df-spinner {\n",
              "    border: 2px solid var(--fill-color);\n",
              "    border-color: transparent;\n",
              "    border-bottom-color: var(--fill-color);\n",
              "    animation:\n",
              "      spin 1s steps(1) infinite;\n",
              "  }\n",
              "\n",
              "  @keyframes spin {\n",
              "    0% {\n",
              "      border-color: transparent;\n",
              "      border-bottom-color: var(--fill-color);\n",
              "      border-left-color: var(--fill-color);\n",
              "    }\n",
              "    20% {\n",
              "      border-color: transparent;\n",
              "      border-left-color: var(--fill-color);\n",
              "      border-top-color: var(--fill-color);\n",
              "    }\n",
              "    30% {\n",
              "      border-color: transparent;\n",
              "      border-left-color: var(--fill-color);\n",
              "      border-top-color: var(--fill-color);\n",
              "      border-right-color: var(--fill-color);\n",
              "    }\n",
              "    40% {\n",
              "      border-color: transparent;\n",
              "      border-right-color: var(--fill-color);\n",
              "      border-top-color: var(--fill-color);\n",
              "    }\n",
              "    60% {\n",
              "      border-color: transparent;\n",
              "      border-right-color: var(--fill-color);\n",
              "    }\n",
              "    80% {\n",
              "      border-color: transparent;\n",
              "      border-right-color: var(--fill-color);\n",
              "      border-bottom-color: var(--fill-color);\n",
              "    }\n",
              "    90% {\n",
              "      border-color: transparent;\n",
              "      border-bottom-color: var(--fill-color);\n",
              "    }\n",
              "  }\n",
              "</style>\n",
              "\n",
              "  <script>\n",
              "    async function quickchart(key) {\n",
              "      const quickchartButtonEl =\n",
              "        document.querySelector('#' + key + ' button');\n",
              "      quickchartButtonEl.disabled = true;  // To prevent multiple clicks.\n",
              "      quickchartButtonEl.classList.add('colab-df-spinner');\n",
              "      try {\n",
              "        const charts = await google.colab.kernel.invokeFunction(\n",
              "            'suggestCharts', [key], {});\n",
              "      } catch (error) {\n",
              "        console.error('Error during call to suggestCharts:', error);\n",
              "      }\n",
              "      quickchartButtonEl.classList.remove('colab-df-spinner');\n",
              "      quickchartButtonEl.classList.add('colab-df-quickchart-complete');\n",
              "    }\n",
              "    (() => {\n",
              "      let quickchartButtonEl =\n",
              "        document.querySelector('#df-f1fc2a04-1cfa-4c88-a0b6-b33b84728a71 button');\n",
              "      quickchartButtonEl.style.display =\n",
              "        google.colab.kernel.accessAllowed ? 'block' : 'none';\n",
              "    })();\n",
              "  </script>\n",
              "</div>\n",
              "\n",
              "    </div>\n",
              "  </div>\n"
            ]
          },
          "metadata": {},
          "execution_count": 28
        }
      ]
    },
    {
      "cell_type": "code",
      "source": [
        "fig, ax1 = plt.subplots(figsize=(10, 8))\n",
        "\n",
        "accuracy_drop_levels = np.array([2, 4, 10])\n",
        "index = np.arange(len(accuracy_drop_levels))\n",
        "\n",
        "color = 'tab:green'\n",
        "ax1.set_xlabel('Combined Model Accuracy Drop (%)')\n",
        "ax1.set_ylabel('Accuracy', color=color)\n",
        "ax1.plot(index, G_test_acc, color=color, marker='o', linestyle='-', linewidth=2, label='Accuracy')\n",
        "ax1.tick_params(axis='y', labelcolor=color)\n",
        "ax1.set_xticks(index)\n",
        "ax1.set_xticklabels(accuracy_drop_levels)\n",
        "\n",
        "ax2 = ax1.twinx()\n",
        "color = 'tab:red'\n",
        "ax2.set_ylabel('Attack Success Rate', color=color)\n",
        "ax2.plot(index, G_attack_rate, color=color, marker='s', linestyle='-', linewidth=2, label='Attack Success Rate')\n",
        "ax2.tick_params(axis='y', labelcolor=color)\n",
        "\n",
        "fig.tight_layout()\n",
        "plt.title('Dual-axis Comparison of Accuracy and Attack Success Rate')\n",
        "plt.show()\n"
      ],
      "metadata": {
        "colab": {
          "base_uri": "https://localhost:8080/",
          "height": 533
        },
        "id": "xcuH3DsooRND",
        "outputId": "f16edbe0-02af-4542-8765-c229f65ef247"
      },
      "execution_count": 29,
      "outputs": [
        {
          "output_type": "display_data",
          "data": {
            "text/plain": [
              "<Figure size 1000x800 with 2 Axes>"
            ],
            "image/png": "[encoded data removed]"
          },
          "metadata": {}
        }
      ]
    },
    {
      "cell_type": "code",
      "source": [
        "from google.colab import files\n",
        "files.download('/content/MLSec-BackDoor-Attacks/lab3/repaired_models/model_drop_2.h5')\n",
        "files.download('/content/MLSec-BackDoor-Attacks/lab3/repaired_models/model_drop_4.h5')\n",
        "files.download('/content/MLSec-BackDoor-Attacks/lab3/repaired_models/model_drop_10.h5')\n"
      ],
      "metadata": {
        "colab": {
          "base_uri": "https://localhost:8080/",
          "height": 17
        },
        "id": "uH3ZdmhwXd0y",
        "outputId": "af8e56eb-e194-4929-c864-14519bb7a650"
      },
      "execution_count": null,
      "outputs": [
        {
          "output_type": "display_data",
          "data": {
            "text/plain": [
              "<IPython.core.display.Javascript object>"
            ],
            "application/javascript": [
              "\n",
              "    async function download(id, filename, size) {\n",
              "      if (!google.colab.kernel.accessAllowed) {\n",
              "        return;\n",
              "      }\n",
              "      const div = document.createElement('div');\n",
              "      const label = document.createElement('label');\n",
              "      label.textContent = `Downloading \"${filename}\": `;\n",
              "      div.appendChild(label);\n",
              "      const progress = document.createElement('progress');\n",
              "      progress.max = size;\n",
              "      div.appendChild(progress);\n",
              "      document.body.appendChild(div);\n",
              "\n",
              "      const buffers = [];\n",
              "      let downloaded = 0;\n",
              "\n",
              "      const channel = await google.colab.kernel.comms.open(id);\n",
              "      // Send a message to notify the kernel that we're ready.\n",
              "      channel.send({})\n",
              "\n",
              "      for await (const message of channel.messages) {\n",
              "        // Send a message to notify the kernel that we're ready.\n",
              "        channel.send({})\n",
              "        if (message.buffers) {\n",
              "          for (const buffer of message.buffers) {\n",
              "            buffers.push(buffer);\n",
              "            downloaded += buffer.byteLength;\n",
              "            progress.value = downloaded;\n",
              "          }\n",
              "        }\n",
              "      }\n",
              "      const blob = new Blob(buffers, {type: 'application/binary'});\n",
              "      const a = document.createElement('a');\n",
              "      a.href = window.URL.createObjectURL(blob);\n",
              "      a.download = filename;\n",
              "      div.appendChild(a);\n",
              "      a.click();\n",
              "      div.remove();\n",
              "    }\n",
              "  "
            ]
          },
          "metadata": {}
        },
        {
          "output_type": "display_data",
          "data": {
            "text/plain": [
              "<IPython.core.display.Javascript object>"
            ],
            "application/javascript": [
              "download(\"download_8141c84f-e261-4693-b417-b61b37ff20a1\", \"model_drop_2.h5\", 2447028)"
            ]
          },
          "metadata": {}
        }
      ]
    }
  ]
}